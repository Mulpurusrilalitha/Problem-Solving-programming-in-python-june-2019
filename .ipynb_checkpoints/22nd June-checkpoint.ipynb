{
 "cells": [
  {
   "cell_type": "markdown",
   "metadata": {},
   "source": [
    "#### Date : 22 June 2019\n",
    "##### Day Objectives\n",
    "\n",
    "* File handling\n",
    "    - Basic file data processing\n",
    "           *Accessing and modifying File Data\n",
    "    - Charecter count\n",
    "    - Line Count\n",
    "    - File size\n",
    "    - Word Count\n",
    "    - Unique word Count\n",
    "\n"
   ]
  },
  {
   "cell_type": "code",
   "execution_count": 10,
   "metadata": {},
   "outputs": [
    {
     "name": "stdout",
     "output_type": "stream",
     "text": [
      "new data dataLine2\n",
      "line3Line2\n",
      "line3Line2\n",
      "line3Line4\n",
      "line5\n",
      "line 6\n",
      "\n"
     ]
    }
   ],
   "source": [
    "# Read a file  -  File should exist (Read mode) \n",
    "# Write into a file - File can exist(append) or create a new file at the time of writing(Write mode)\n",
    "\n",
    "def readFile(filepath):\n",
    "    with open(filepath,'r') as f:  # f is a variable/reference to save the file,   # r=mode(read)\n",
    "        filedata =f.read()\n",
    "    return filedata\n",
    "        \n",
    "filepath = \"Data Files/Data.txt\"\n",
    "print(readFile(filepath))\n"
   ]
  },
  {
   "cell_type": "code",
   "execution_count": 16,
   "metadata": {},
   "outputs": [
    {
     "name": "stdout",
     "output_type": "stream",
     "text": [
      "9\n"
     ]
    }
   ],
   "source": [
    "# Charector count \n",
    "\n",
    "def readFile(filepath):\n",
    "    with open(filepath,'r') as f:  # f is a variable/reference to save the file,   # r=mode(read)\n",
    "        filedata =len(f.read())-1\n",
    "        \n",
    "    return filedata\n",
    "        \n",
    "filepath = \"Data Files/Data.txt\"\n",
    "print(readFile(filepath))"
   ]
  },
  {
   "cell_type": "code",
   "execution_count": null,
   "metadata": {},
   "outputs": [],
   "source": []
  },
  {
   "cell_type": "code",
   "execution_count": null,
   "metadata": {},
   "outputs": [],
   "source": []
  },
  {
   "cell_type": "code",
   "execution_count": null,
   "metadata": {},
   "outputs": [],
   "source": []
  }
 ],
 "metadata": {
  "kernelspec": {
   "display_name": "Python 3",
   "language": "python",
   "name": "python3"
  },
  "language_info": {
   "codemirror_mode": {
    "name": "ipython",
    "version": 3
   },
   "file_extension": ".py",
   "mimetype": "text/x-python",
   "name": "python",
   "nbconvert_exporter": "python",
   "pygments_lexer": "ipython3",
   "version": "3.7.3"
  }
 },
 "nbformat": 4,
 "nbformat_minor": 2
}
