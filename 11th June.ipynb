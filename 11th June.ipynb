{
 "cells": [
  {
   "cell_type": "markdown",
   "metadata": {},
   "source": [
    "## Markdown Basics\n",
    "* **BOLD** <br>\n",
    "* *Italic* <br>\n",
    "* ***Bold&Italic*** <br>\n",
    "* Normal Text\n",
    "    * Sublist 1\n",
    "    * Sublist 2\n",
    "  \n",
    "\n",
    ">1. Ordered List1\n",
    ">2. Ordered List2\n",
    "\n",
    "\n",
    "I get 10 times more traffic from [Google] [1] than from\n",
    "[Yahoo] [2] or [MSN] [3].\n",
    "\n",
    "  [1]: http://google.com/        \"Google\"\n",
    "  [2]: http://search.yahoo.com/  \"Yahoo Search\"\n",
    "  [3]: http://search.msn.com/    \"MSN Search\n",
    "\n",
    "[Jupyter Logo](jupyter.png)\n",
    "![Jupyter Logo](jupyter.png)\n",
    "~Printf(\"Hello Markdown\")~\n",
    "<img src=\"jupyter.png\" style=\"float:left\">\n",
    "<(http\n",
    "<markdown@google.com>\n",
    "\n",
    "\n"
   ]
  },
  {
   "cell_type": "markdown",
   "metadata": {},
   "source": [
    "## Python Basics\n",
    "\n",
    "Python version3.7\n",
    "\n",
    "-Scripting\n",
    "-Object Oriented language\n",
    "-Fuctional"
   ]
  },
  {
   "cell_type": "code",
   "execution_count": 2,
   "metadata": {},
   "outputs": [
    {
     "name": "stdout",
     "output_type": "stream",
     "text": [
      "Good Afternoon ! || Hello Python\n"
     ]
    }
   ],
   "source": [
    "#Python Comments\n",
    "\n",
    "print(\"Good Afternoon !\",end=\" || \")#Basic Output\n",
    "print(\"Hello Python\")"
   ]
  },
  {
   "cell_type": "code",
   "execution_count": null,
   "metadata": {},
   "outputs": [],
   "source": []
  },
  {
   "cell_type": "markdown",
   "metadata": {},
   "source": [
    "### Assignment"
   ]
  },
  {
   "cell_type": "code",
   "execution_count": 3,
   "metadata": {},
   "outputs": [
    {
     "name": "stdout",
     "output_type": "stream",
     "text": [
      "123 234 345\n"
     ]
    }
   ],
   "source": [
    "n1 = 123456  # Single Variable Assignment\n",
    "\n",
    "# Multi Variable Assignment\n",
    "\n",
    "a,b,c=123,234,345 #Multi Variable Assignment with Different Values\n",
    "\n",
    "\n",
    "\n",
    "n2=n3=n4=n1\n",
    "\n",
    "n2\n",
    "\n",
    "c\n",
    "print(a,b,c)\n",
    "\n",
    "\n",
    "\n",
    "\n"
   ]
  },
  {
   "cell_type": "code",
   "execution_count": null,
   "metadata": {},
   "outputs": [],
   "source": []
  },
  {
   "cell_type": "markdown",
   "metadata": {},
   "source": [
    "## Data Types\n",
    "\n",
    "* int\n",
    "* float\n",
    "* string\n",
    "\n"
   ]
  },
  {
   "cell_type": "code",
   "execution_count": 4,
   "metadata": {},
   "outputs": [
    {
     "data": {
      "text/plain": [
       "12.0"
      ]
     },
     "execution_count": 4,
     "metadata": {},
     "output_type": "execute_result"
    }
   ],
   "source": [
    "type(a)\n",
    "\n",
    "s1=\"Python\"\n",
    "type(s1)\n",
    "\n",
    "f1=12.345\n",
    "type(f1)\n",
    "\n",
    "\n",
    "int(f1)\n",
    "\n",
    "str(int(f1))\n",
    "\n",
    "float(str(int(f1)))"
   ]
  },
  {
   "cell_type": "code",
   "execution_count": null,
   "metadata": {},
   "outputs": [],
   "source": [
    "\n",
    "\n"
   ]
  },
  {
   "cell_type": "markdown",
   "metadata": {},
   "source": [
    "### Arithmetic Operations\n",
    "\n",
    "* +\n",
    "* -\n",
    "* *\n",
    "* /\n",
    "*%\n",
    "*^\n"
   ]
  },
  {
   "cell_type": "code",
   "execution_count": 2,
   "metadata": {},
   "outputs": [
    {
     "ename": "NameError",
     "evalue": "name 'n2' is not defined",
     "output_type": "error",
     "traceback": [
      "\u001b[1;31m---------------------------------------------------------------------------\u001b[0m",
      "\u001b[1;31mNameError\u001b[0m                                 Traceback (most recent call last)",
      "\u001b[1;32m<ipython-input-2-5bc1db756a4d>\u001b[0m in \u001b[0;36m<module>\u001b[1;34m\u001b[0m\n\u001b[1;32m----> 1\u001b[1;33m \u001b[0mn2\u001b[0m\u001b[1;33m%\u001b[0m\u001b[1;36m11\u001b[0m\u001b[1;33m\u001b[0m\u001b[1;33m\u001b[0m\u001b[0m\n\u001b[0m\u001b[0;32m      2\u001b[0m \u001b[1;33m\u001b[0m\u001b[0m\n\u001b[0;32m      3\u001b[0m \u001b[0mn3\u001b[0m\u001b[1;33m=\u001b[0m\u001b[0mn2\u001b[0m\u001b[1;33m**\u001b[0m\u001b[1;36m123456\u001b[0m\u001b[1;33m\u001b[0m\u001b[1;33m\u001b[0m\u001b[0m\n\u001b[0;32m      4\u001b[0m \u001b[1;33m\u001b[0m\u001b[0m\n\u001b[0;32m      5\u001b[0m \u001b[0mn3\u001b[0m\u001b[1;33m\u001b[0m\u001b[1;33m\u001b[0m\u001b[0m\n",
      "\u001b[1;31mNameError\u001b[0m: name 'n2' is not defined"
     ]
    }
   ],
   "source": [
    "n2%11\n",
    "\n",
    "n3=n2**123456\n",
    "\n",
    "n3\n",
    "type(n3)\n",
    "len(str(n3))\n",
    "\n",
    "atoms = 10**82\n",
    "len(str(atoms))\n",
    "type(str(atoms))\n",
    "\n"
   ]
  },
  {
   "cell_type": "markdown",
   "metadata": {},
   "source": []
  },
  {
   "cell_type": "markdown",
   "metadata": {},
   "source": [
    "### Conditionals\n",
    "\n",
    "\n"
   ]
  },
  {
   "cell_type": "code",
   "execution_count": 3,
   "metadata": {},
   "outputs": [
    {
     "ename": "NameError",
     "evalue": "name 'atoms' is not defined",
     "output_type": "error",
     "traceback": [
      "\u001b[1;31m---------------------------------------------------------------------------\u001b[0m",
      "\u001b[1;31mNameError\u001b[0m                                 Traceback (most recent call last)",
      "\u001b[1;32m<ipython-input-3-90f67e5002c3>\u001b[0m in \u001b[0;36m<module>\u001b[1;34m\u001b[0m\n\u001b[1;32m----> 1\u001b[1;33m \u001b[1;32mif\u001b[0m \u001b[0matoms\u001b[0m\u001b[1;33m<\u001b[0m\u001b[1;36m10\u001b[0m\u001b[1;33m**\u001b[0m\u001b[1;36m9\u001b[0m\u001b[1;33m:\u001b[0m\u001b[1;33m\u001b[0m\u001b[1;33m\u001b[0m\u001b[0m\n\u001b[0m\u001b[0;32m      2\u001b[0m     \u001b[0mprint\u001b[0m\u001b[1;33m(\u001b[0m\u001b[1;34m\"TRUE\"\u001b[0m\u001b[1;33m)\u001b[0m\u001b[1;33m\u001b[0m\u001b[1;33m\u001b[0m\u001b[0m\n\u001b[0;32m      3\u001b[0m \u001b[1;32melse\u001b[0m\u001b[1;33m:\u001b[0m\u001b[0mprint\u001b[0m\u001b[1;33m(\u001b[0m\u001b[1;34m\"FLASE\"\u001b[0m\u001b[1;33m)\u001b[0m\u001b[1;33m\u001b[0m\u001b[1;33m\u001b[0m\u001b[0m\n\u001b[0;32m      4\u001b[0m \u001b[1;33m\u001b[0m\u001b[0m\n\u001b[0;32m      5\u001b[0m \u001b[1;33m\u001b[0m\u001b[0m\n",
      "\u001b[1;31mNameError\u001b[0m: name 'atoms' is not defined"
     ]
    }
   ],
   "source": [
    "if atoms<10**9:\n",
    "    print(\"TRUE\")\n",
    "else:print(\"FLASE\")\n",
    "\n",
    "\n"
   ]
  },
  {
   "cell_type": "code",
   "execution_count": 4,
   "metadata": {},
   "outputs": [
    {
     "name": "stdout",
     "output_type": "stream",
     "text": [
      "odd\n"
     ]
    }
   ],
   "source": [
    "#Check if a number is Even\n",
    "\n",
    "n=123\n",
    "if n%2==0:\n",
    "    print(\"Even\")\n",
    "else:\n",
    "    print(\"odd\")"
   ]
  },
  {
   "cell_type": "code",
   "execution_count": null,
   "metadata": {},
   "outputs": [],
   "source": [
    "\n",
    "\n",
    "n1 = int(input(\"Enter the first number\"))\n",
    "\n",
    "n2 = int(input(\"Enter the second number\"))\n",
    "\n",
    "n3 = int(input(\"Enter the Third number\"))\n",
    "\n",
    "if n1>n2 and n1>=n3:\n",
    "    print(n1,\"is great\")\n",
    "    \n",
    "elif n2>=n3:\n",
    "    print(n2,\"is great\")\n",
    "else:\n",
    "    print(n3,\"is great\")"
   ]
  },
  {
   "cell_type": "code",
   "execution_count": null,
   "metadata": {},
   "outputs": [],
   "source": [
    "# check if a leap year\n",
    "\n",
    "n = int(input(\"Enter a Year\"))\n",
    "if(n%400==0 and (n%100!=0 or n%4==0)):\n",
    "    print(n,\"Leap\")\n",
    "else:\n",
    "    print(n,\"not Leap\")"
   ]
  },
  {
   "cell_type": "code",
   "execution_count": null,
   "metadata": {},
   "outputs": [],
   "source": [
    "# Check if a given number is factor of 1000\n",
    "\n",
    "n = int(input(\"Enter a number\"))\n",
    "\n",
    "if 1000 % n == 0:\n",
    "    print(\"number is a factor\")\n",
    "else:\n",
    "    print(\"number is not a facor\")\n",
    "    "
   ]
  },
  {
   "cell_type": "code",
   "execution_count": null,
   "metadata": {},
   "outputs": [],
   "source": [
    "# Check if a sring is equal to a number\n",
    "\n",
    "s1=\"Python\"\n",
    "n1=\"123456\"\n",
    "\n",
    "if str(n1)==s1:\n",
    "    print(n1, \"is equal to\",s1)\n",
    "else:\n",
    "    print(n1, \"not equal to\",s1)"
   ]
  },
  {
   "cell_type": "code",
   "execution_count": null,
   "metadata": {},
   "outputs": [],
   "source": [
    "#Calculate the Square root of a number without \n",
    "\n",
    "n1=123\n",
    "print(n1**0.5)"
   ]
  },
  {
   "cell_type": "code",
   "execution_count": 5,
   "metadata": {},
   "outputs": [
    {
     "name": "stdout",
     "output_type": "stream",
     "text": [
      "Enter a year2020\n",
      "31536000000000000\n"
     ]
    }
   ],
   "source": [
    "# Calculate the number of nano seconds in a given year including leap year\n",
    "\n",
    "n=int(input(\"Enter a year\"))\n",
    "if(n%400==0 and (n%100!=0 or n%4==0)):\n",
    "    print(366*24*60*60*(10**9))\n",
    "else:\n",
    "    print(365*24*60*60*(10**9))\n",
    "\n"
   ]
  },
  {
   "cell_type": "code",
   "execution_count": null,
   "metadata": {},
   "outputs": [],
   "source": [
    "# Check if a number is mulptiple of 10\n",
    "n1=int(input(\"Enter a number\"))\n",
    "if n1%10==0:\n",
    "    print(n1,\"is a multiple of 10\")\n",
    "else:\n",
    "    print(n1,\"is not a multiple of 10\")"
   ]
  },
  {
   "cell_type": "code",
   "execution_count": null,
   "metadata": {},
   "outputs": [],
   "source": [
    "### Check if a number exist in a range\n",
    "\n",
    "ln=int(input(\"Enter ln\"))\n",
    "up=int(input(\"Enter up\"))\n",
    "n=int(input(\"Entr n\"))\n",
    "\n",
    "if(ln<n<up):\n",
    "    print(n,\"is in a given range\")\n",
    "else:\n",
    "    print(n,\"is not in a range\")"
   ]
  },
  {
   "cell_type": "code",
   "execution_count": null,
   "metadata": {},
   "outputs": [],
   "source": [
    "##### Calculate the number of digits \n",
    "\n",
    "n1 = 123456\n",
    "len(str(n1))"
   ]
  },
  {
   "cell_type": "code",
   "execution_count": 5,
   "metadata": {},
   "outputs": [
    {
     "name": "stdout",
     "output_type": "stream",
     "text": [
      "Enter n17\n",
      "Enter n23\n",
      "Enter operator%\n",
      "1\n"
     ]
    }
   ],
   "source": [
    "# Calculater\n",
    "\n",
    "n1=int(input(\"Enter n1\"))\n",
    "n2=int(input(\"Enter n2\"))\n",
    "x=input(\"Enter operator\")\n",
    "if(x==\"+\"):\n",
    "    print(n1+n2)\n",
    "elif(x==\"-\"):\n",
    "    print(n1-n2)\n",
    "elif(x==\"*\"):\n",
    "    print(n1*n2)\n",
    "elif(x==\"/\"):\n",
    "    print(n1/n2)\n",
    "else:\n",
    "    print(n1%n2)\n",
    "    \n",
    "    "
   ]
  },
  {
   "cell_type": "code",
   "execution_count": null,
   "metadata": {},
   "outputs": [],
   "source": [
    "## "
   ]
  }
 ],
 "metadata": {
  "kernelspec": {
   "display_name": "Python 3",
   "language": "python",
   "name": "python3"
  },
  "language_info": {
   "codemirror_mode": {
    "name": "ipython",
    "version": 3
   },
   "file_extension": ".py",
   "mimetype": "text/x-python",
   "name": "python",
   "nbconvert_exporter": "python",
   "pygments_lexer": "ipython3",
   "version": "3.7.3"
  }
 },
 "nbformat": 4,
 "nbformat_minor": 2
}
