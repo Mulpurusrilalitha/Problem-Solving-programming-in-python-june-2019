{
 "cells": [
  {
   "cell_type": "code",
   "execution_count": null,
   "metadata": {},
   "outputs": [],
   "source": [
    "# Functions to print all combinations of pairs of integers in a unique list\n",
    "# [1,2,3]  -> (1,2),(1,3),(2,3)  ->nCr = 3C2 -> 3!/((3-2)!*2!)\n",
    "\n",
    "def combinations(li):\n",
    "    for i in range(len(li)-1):\n",
    "        for j in range(i+1,len(li)):\n",
    "            print(li[i],li[j])\n",
    "    return \n",
    "\n",
    "li = [1,2,3,4]\n",
    "combinations(li)       "
   ]
  },
  {
   "cell_type": "code",
   "execution_count": null,
   "metadata": {},
   "outputs": [],
   "source": [
    "# [1,2,3,4]  -> (1 2 3),(1 2 4),(1 3 3),(1 3 4),(1 4 3),(1 4 4),(2 3 4),(2 4 4)\n",
    "def combinations3(li):\n",
    "    for i in range(len(li)-2): # len(li)-2 ==3 then only we will get i+2 value otherwise we will \n",
    "                                # get an error i,e; out of range in other languages\n",
    "        \n",
    "        for j in range(i+1,len(li)-1):\n",
    "            for k in range(i+2,len(li)):\n",
    "                print(li[i],li[j],li[k])\n",
    "    return \n",
    "\n",
    "li = [1,2,3,4]\n",
    "combinations3(li)       "
   ]
  },
  {
   "cell_type": "code",
   "execution_count": null,
   "metadata": {},
   "outputs": [],
   "source": [
    "# Exam medium problem\n",
    "# differnce between pair of integers must be in an array upto get an constant array/empty list \n",
    "                # i.e; []\n",
    "# [1,2,3]  ->[1,2]\n",
    "\n",
    "def medium(li,k):\n",
    "    \n",
    "    while(True):\n",
    "        li3 = differncepairs(li)\n",
    "        if li3[0] == li3[1]:   # Constant array\n",
    "            break\n",
    "        if len(li3[0]) >= k:\n",
    "            return (sorted(li3[0], reverse = True)[k-1])\n",
    "    return -1\n",
    "# Function to identify all differences of all pairs of all numbers \n",
    "def differncepairs(li):\n",
    "    cli=li[:]\n",
    "    newelements =[]\n",
    "    for i in range(len(cli)-1):\n",
    "        for j in range(i+1, len(cli)):\n",
    "            d = abs(cli[i]-cli[j])\n",
    "            if d not in li and d not in newelements:\n",
    "                newelements.append(d) # append -> added as list \"[]\"\n",
    "    li.extend(newelements) # Extend  -> added as a element in the list\n",
    "    return [cli,li]\n",
    "    \n",
    "with open(\"Data Files/medium-input.txt\", \"r\") as f:\n",
    "    t = int(f.readline())\n",
    "    for i in range(t):\n",
    "        f.readline()\n",
    "        li = f.readline().split()\n",
    "        k = int(f.readline())\n",
    "    print(medium(li,k))\n",
    "\n",
    "\n",
    "                "
   ]
  },
  {
   "cell_type": "code",
   "execution_count": null,
   "metadata": {},
   "outputs": [],
   "source": [
    "# Convert the list into an arthimatic progression\n",
    "# [3,8,15]\n",
    "\n",
    "\n",
    "def differncepairs(li):\n",
    "    cli=li[:]\n",
    "    newelements =[]\n",
    "    for i in range(len(cli)-1):\n",
    "        for j in range(i+1, len(cli)):\n",
    "            d = abs(cli[i]-cli[j])\n",
    "            if d not in li and d not in newelements:\n",
    "                newelements.append(d) # append -> added as list \"[]\"\n",
    "    li.extend(newelements) # Extend  -> added as a element in the list\n",
    "    return li\n",
    "\n",
    "li = [2,3,6,9,12,1,4,7,10,5,8,11]\n",
    "differncepairs(li)"
   ]
  },
  {
   "cell_type": "markdown",
   "metadata": {},
   "source": [
    "### Set - Data Structure in Python\n",
    "\n",
    "Represented by \"{}\" seperated by \",\"\n",
    "\n",
    "It has no order\n",
    "\n",
    "To create a blank set \"s()\"\n",
    "\n"
   ]
  },
  {
   "cell_type": "code",
   "execution_count": null,
   "metadata": {},
   "outputs": [],
   "source": [
    "a={1,2,4,3,6,6} # Didnot allow iteration\n",
    "a"
   ]
  },
  {
   "cell_type": "code",
   "execution_count": null,
   "metadata": {},
   "outputs": [],
   "source": [
    "a.add(7) # To add a single element to a set\n",
    "a"
   ]
  },
  {
   "cell_type": "code",
   "execution_count": null,
   "metadata": {},
   "outputs": [],
   "source": [
    "for i in a:      # To access all the elements\n",
    "    print(i,end = \" \")"
   ]
  },
  {
   "cell_type": "code",
   "execution_count": null,
   "metadata": {},
   "outputs": [],
   "source": [
    "b = {7,8,9,1,2,3} \n",
    "l = [11,12,13]       # Update the other elements not in \"a\" from a list or from another set\n",
    "a.update(b,l)\n",
    "a"
   ]
  },
  {
   "cell_type": "code",
   "execution_count": null,
   "metadata": {},
   "outputs": [],
   "source": [
    "a={1,2,4,3,6,6} \n",
    "a.discard(3) # Better to use discard always to remove an element\n",
    "# a.remove(3)\n",
    "a"
   ]
  },
  {
   "cell_type": "code",
   "execution_count": null,
   "metadata": {},
   "outputs": [],
   "source": [
    "a={1,2,4,7,8,9}\n",
    "b={4,8,3,5,9}     # To combain to sets\n",
    "a.union(b)"
   ]
  },
  {
   "cell_type": "code",
   "execution_count": null,
   "metadata": {},
   "outputs": [],
   "source": [
    "a={1,2,4,7,8,9}\n",
    "b={4,8,3,5,9}    # To access common elements\n",
    "a.intersection(b)"
   ]
  },
  {
   "cell_type": "code",
   "execution_count": null,
   "metadata": {},
   "outputs": [],
   "source": [
    "a.isdisjoint(b)  # Has no common elements is False {4,8,9}"
   ]
  },
  {
   "cell_type": "code",
   "execution_count": null,
   "metadata": {},
   "outputs": [],
   "source": [
    "a-b   # all elements in \"a\" which are not in \"b\"\n",
    "b-a"
   ]
  },
  {
   "cell_type": "code",
   "execution_count": null,
   "metadata": {},
   "outputs": [],
   "source": [
    "sorted(a)  # To sort \"a\""
   ]
  },
  {
   "cell_type": "code",
   "execution_count": null,
   "metadata": {},
   "outputs": [],
   "source": [
    "a ^ b   # Elements either in \"a\" or in \"b\""
   ]
  },
  {
   "cell_type": "code",
   "execution_count": null,
   "metadata": {},
   "outputs": [],
   "source": [
    "d = set() # To create an empty list\n",
    "d"
   ]
  },
  {
   "cell_type": "code",
   "execution_count": null,
   "metadata": {},
   "outputs": [],
   "source": [
    "li = [1,2,3,2,5,3,7,5,7]    # To remove the reduntion we can use set\n",
    "u=set(li)\n",
    "u"
   ]
  },
  {
   "cell_type": "markdown",
   "metadata": {},
   "source": [
    "Procedural :  C\n",
    "\n",
    "Object Oriented  : Java\n",
    "\n",
    "Scripting  : Web design, PHP, Python, Javascript, Shell, Perl\n",
    "\n",
    "Functional : Python, Haskell, Scala\n",
    "\n",
    "Logic  : Prolong, Lisp"
   ]
  },
  {
   "cell_type": "markdown",
   "metadata": {},
   "source": [
    "### List Comprehensions"
   ]
  },
  {
   "cell_type": "code",
   "execution_count": null,
   "metadata": {},
   "outputs": [],
   "source": [
    "# List of N natural numbers\n",
    "\n",
    "n=10\n",
    "li = []\n",
    "for i in range(1,n+1):\n",
    "    li.append(i)\n",
    "li"
   ]
  },
  {
   "cell_type": "code",
   "execution_count": null,
   "metadata": {},
   "outputs": [],
   "source": [
    "li = [i for i in range(1,11)]\n",
    "li"
   ]
  },
  {
   "cell_type": "code",
   "execution_count": null,
   "metadata": {},
   "outputs": [],
   "source": [
    "# Apply list comprehension to store the cubes of n natural numbers\n",
    "\n",
    "li = [i**3 for i in range(1,11)]\n",
    "li"
   ]
  },
  {
   "cell_type": "code",
   "execution_count": null,
   "metadata": {},
   "outputs": [],
   "source": [
    "# Function to calculate the factorial\n",
    "\n",
    "def factorial(n):\n",
    "    if n ==0 or n==1:\n",
    "        return 1\n",
    "    return n*factorial(n-1)\n",
    "n=int(input())\n",
    "factorial(n)\n",
    "\n",
    "# Apply list comprehension to calculate factorial of n natural numbers\n",
    "\n",
    "factoriallist=[factorial(i)for i in range(1,n+1)]\n",
    "factoriallist\n"
   ]
  },
  {
   "cell_type": "code",
   "execution_count": null,
   "metadata": {},
   "outputs": [],
   "source": [
    "# Cummulative sum of numbers\n",
    "# n=3, [1,3,6]\n",
    "\n",
    "n = 6\n",
    "cummulativesum = [sum(range(1,i+1))for i in range(1,n+1)]\n",
    "cummulativesum\n"
   ]
  },
  {
   "cell_type": "code",
   "execution_count": null,
   "metadata": {},
   "outputs": [],
   "source": [
    "#  Function to store only leap years in a given time\n",
    "\n",
    "s = 1970\n",
    "e = 2019\n",
    "leapyears = [i for i in range(s,e+1)\n",
    "             if(i%400==0 or(i%100!=0 and i%4==0))]\n",
    "leapyears\n"
   ]
  },
  {
   "cell_type": "code",
   "execution_count": null,
   "metadata": {},
   "outputs": [],
   "source": [
    "li = [1,2,3,2,1,4,5,3,5]\n",
    "# unique = []\n",
    "unique = [li[i] for i in range(0,len(li)-1) if li[i]!=li[i+1]]\n",
    "unique\n"
   ]
  },
  {
   "cell_type": "markdown",
   "metadata": {},
   "source": [
    "### Iterators\n",
    "\n",
    "    Iterable :- Strings, Lists, Tuples, Sets, Dictionaries\n",
    "    \n",
    "    Iterator :- To convert iterable to iterator ->iter\n",
    "    \n",
    "    For Loop :- \n",
    "    \n",
    "    Iterator :- "
   ]
  },
  {
   "cell_type": "code",
   "execution_count": null,
   "metadata": {},
   "outputs": [],
   "source": [
    "it = iter(\"Python\")\n",
    "print(next(it))  # -> O/P:- \"P\"    # next is a inbuild-in function"
   ]
  },
  {
   "cell_type": "markdown",
   "metadata": {},
   "source": [
    "### Generators\n",
    "Generator is a Function\n"
   ]
  },
  {
   "cell_type": "code",
   "execution_count": null,
   "metadata": {},
   "outputs": [],
   "source": [
    "\n",
    "def generator():\n",
    "    n=2\n",
    "    yield n               # yield provides a perticular value\n",
    "    \n",
    "    n=n**3\n",
    "    yield n\n",
    "    \n",
    "    n=n**3\n",
    "    yield n\n",
    "    \n",
    "    n=n**3\n",
    "    yield n\n",
    "    \n",
    "a = generator()\n",
    "next(a)\n",
    "next(a)\n",
    "next(a)   "
   ]
  },
  {
   "cell_type": "code",
   "execution_count": 16,
   "metadata": {},
   "outputs": [
    {
     "name": "stdout",
     "output_type": "stream",
     "text": [
      "8\n",
      "512\n",
      "134217728\n",
      "2417851639229258349412352\n",
      "14134776518227074636666380005943348126619871175004951664972849610340958208\n"
     ]
    }
   ],
   "source": [
    "def generator():\n",
    "    n=2\n",
    "    while True:\n",
    "        n **=3\n",
    "        yield n\n",
    "a = generator()\n",
    "for i in range(5):\n",
    "    print(next(a))\n"
   ]
  },
  {
   "cell_type": "code",
   "execution_count": 17,
   "metadata": {},
   "outputs": [
    {
     "data": {
      "text/plain": [
       "179611522904425851069353743000270388901845088543345792963990463859920307658626266183427798054547563078033306988835358891590857217262747367835329396984309513513031495221402451621655309838912118334843403645106062462821874155817303457137963492456707350851168308764154941109168698122118912369459502787555624362170318394983388486097550489545968368097768612595174956668237477850694368434450523983311428360913171917958333189131867786801851022131789012453225948358572868652856079431933778834914907211106587786926865214810834047132886010261142390980528392246182881096770992438847729133941715713118194797465206462673880485027955042593049730501595549442946581879626812594381868018531736028173976995368542459443789238110556500068922761984870532832346714836541179834451194593651101604018429690843065729925259328841618965535171116392687685920913974020841041347833487146166850641099006207099366417033507647297008818319983790198175103193126060739628315019600620215303683847947425993268495638159373461050712926427951543532021140153677805256076615689240813341914941560179247133940457623579615327222013197073967480832"
      ]
     },
     "execution_count": 17,
     "metadata": {},
     "output_type": "execute_result"
    }
   ],
   "source": [
    "b = next(a)**2\n",
    "b*=next(a)\n",
    "b"
   ]
  },
  {
   "cell_type": "code",
   "execution_count": null,
   "metadata": {},
   "outputs": [],
   "source": []
  }
 ],
 "metadata": {
  "kernelspec": {
   "display_name": "Python 3",
   "language": "python",
   "name": "python3"
  },
  "language_info": {
   "codemirror_mode": {
    "name": "ipython",
    "version": 3
   },
   "file_extension": ".py",
   "mimetype": "text/x-python",
   "name": "python",
   "nbconvert_exporter": "python",
   "pygments_lexer": "ipython3",
   "version": "3.7.3"
  }
 },
 "nbformat": 4,
 "nbformat_minor": 2
}
