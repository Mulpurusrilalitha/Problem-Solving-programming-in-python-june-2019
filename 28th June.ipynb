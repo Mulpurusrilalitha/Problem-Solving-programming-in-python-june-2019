{
 "cells": [
  {
   "cell_type": "markdown",
   "metadata": {},
   "source": [
    "#### Day Objectives\n",
    "\n",
    "    * Maps\n",
    "    * Lambda\n",
    "    * Built-in functions\n",
    "    * Use cases - File/ Data Encryption\n"
   ]
  },
  {
   "cell_type": "markdown",
   "metadata": {},
   "source": [
    "#### Maps\n",
    "\n",
    "Mapping an entity with function \n",
    "\n",
    "f : x**2\n",
    "x : [1,10]\n",
    "f(x)  -> 4    ## If f =2\n",
    "\n",
    "y = f(x)\n",
    "\n",
    "x       y\n",
    "1       1\n",
    "2       4\n",
    "3       9\n",
    "4       16 \n",
    "\n",
    "map(function, Iterable)\n",
    "\n",
    "\n",
    "\n"
   ]
  },
  {
   "cell_type": "code",
   "execution_count": null,
   "metadata": {},
   "outputs": [],
   "source": [
    "def power(a,n):\n",
    "    # return a**n\n",
    "    r = 1\n",
    "    for i in range(1,n):\n",
    "        r = r * a\n",
    "        return r\n",
    "power(4,3)\n",
    "\n",
    "def recursivepowerN(a,n):\n",
    "    if n == 0:\n",
    "        return 1\n",
    "    else: \n",
    "        return a*recursivepowerN(a,n-1)\n",
    "    \n",
    "recursivepowerN(5,4)   \n",
    "       "
   ]
  },
  {
   "cell_type": "code",
   "execution_count": null,
   "metadata": {},
   "outputs": [],
   "source": [
    "###### Cube\n",
    "\n",
    "def cube(n):\n",
    "    return n ** 3 \n",
    "li = ['1', '2', '3', '4', '5', '6']\n",
    "\n",
    "set(map(cube,[1,2,3]))"
   ]
  },
  {
   "cell_type": "code",
   "execution_count": null,
   "metadata": {},
   "outputs": [],
   "source": [
    "def cube(n):\n",
    "    return n ** 3 \n",
    "li = ['1', '2', '3', '4', '5', '6']\n",
    "li2 = list(map(int,li))\n",
    "list(map(str,li2))"
   ]
  },
  {
   "cell_type": "markdown",
   "metadata": {},
   "source": [
    "#### Filter\n",
    "\n",
    "Used to check boolean True values\n",
    "\n"
   ]
  },
  {
   "cell_type": "code",
   "execution_count": null,
   "metadata": {},
   "outputs": [],
   "source": [
    "li = [1,2,3,'a','b','c']\n",
    "\n",
    "def isdigit(c):\n",
    "    c= str(c)\n",
    "    if c.isdigit(): # if c is a bulit-in function we will give it isdigit(c)  otherwise c.isdigit\n",
    "        return True\n",
    "    return False\n",
    "\n",
    "isdigit('a')\n",
    "list(filter(isdigit,li))"
   ]
  },
  {
   "cell_type": "code",
   "execution_count": null,
   "metadata": {},
   "outputs": [],
   "source": [
    "# Use filter function to identify all primes in a given range\n",
    "\n",
    "def prime(n):                               # x    y\n",
    "    for i in range(2,n//2+1):               # 1\n",
    "        if n%i == 0:                        # 2    2\n",
    "            return False                    # 3    3\n",
    "    return True                             # 4\n",
    "\n",
    "lb,ub = 500,600\n",
    "primelist = list(filter(prime,range(lb,ub)))\n",
    "print(primelist)\n",
    "\n",
    "primelists = (int(i) for i in range(1,n+1)if n%i!=0)\n",
    "print(primelists)\n"
   ]
  },
  {
   "cell_type": "code",
   "execution_count": null,
   "metadata": {},
   "outputs": [],
   "source": []
  },
  {
   "cell_type": "code",
   "execution_count": null,
   "metadata": {},
   "outputs": [],
   "source": [
    "# Use function to identify all primes in a given range by list comprehension\n",
    "n = 10\n",
    "primelists = (i for i in range(1,n+1)if n%i!=0)\n",
    "primelists"
   ]
  },
  {
   "cell_type": "markdown",
   "metadata": {},
   "source": [
    "#### Map : Gives the result of a function \n",
    "\n",
    "##### Used for mathematical expressions, doesnot applicable to checking conditions\n",
    "\n",
    "#### filter\n",
    "Filters the iterable objects which is a boolean type\n",
    "\n"
   ]
  },
  {
   "cell_type": "markdown",
   "metadata": {},
   "source": [
    "#### Lambda    Keyword\n",
    "\n",
    "Anonymous/dont have a name function \n",
    "can be embeded into list comprehention, Maps, Filters also"
   ]
  },
  {
   "cell_type": "code",
   "execution_count": null,
   "metadata": {},
   "outputs": [],
   "source": [
    "a = lambda x: x ** 3\n",
    "#list(map(lambda x:x** 3,[1,2,3,4,5,6]))\n",
    "#list(map(a,[1,2,3,4,5,6]))     # lambda to a filter to define either true or false\n",
    "list(filter(lambda x :(x%2==0), [1,2,3,4,5,6]))"
   ]
  },
  {
   "cell_type": "code",
   "execution_count": null,
   "metadata": {},
   "outputs": [],
   "source": [
    "# Marks in first exam (lambda for n number of values)\n",
    "from random import randint\n",
    "marks1 = [randint(0,25)for i in range(10)]\n",
    "marks2 = [randint(0,25)for i in range(10)]\n",
    "\n",
    "averagemarks = list(map(lambda x,y : (x+y)/2,marks1,marks2))\n",
    "\n",
    "failmarks = list(filter(lambda x:x<10,averagemarks))\n",
    "failmarks\n",
    "# averagemarks\n"
   ]
  },
  {
   "cell_type": "markdown",
   "metadata": {},
   "source": [
    "### Applying functional programming to the Marks Analysis Application\n",
    "\n"
   ]
  },
  {
   "cell_type": "code",
   "execution_count": 4,
   "metadata": {},
   "outputs": [],
   "source": [
    "# Generate Marks data\n",
    "\n",
    "\n",
    "from random import randint\n",
    "\n",
    "def generatemarks(n,lb,ub):\n",
    "    filename = \"Data Files/marks.txt\"\n",
    "    with open(filename,\"w\") as f:\n",
    "        for i in range(n):\n",
    "            marks = randint(lb,ub)\n",
    "            f.write(str(marks)+\"\\n\")\n",
    "    return\n",
    "generatemarks(100,0,100)"
   ]
  },
  {
   "cell_type": "markdown",
   "metadata": {},
   "source": []
  },
  {
   "cell_type": "code",
   "execution_count": null,
   "metadata": {},
   "outputs": [],
   "source": [
    "# Marks analysis\n",
    "# Class average\n",
    "# % of passed, Failed, Distinction\n",
    "# Frequency of highest and lowest marks\n",
    "\n",
    "# Class average\n",
    "import re\n",
    "def classaverage(filepath):\n",
    "    markslist =\n",
    "        \n",
    "filepath = \"Data Files/marks.txt\"\n",
    "classaverage(filepath)"
   ]
  },
  {
   "cell_type": "code",
   "execution_count": 8,
   "metadata": {},
   "outputs": [
    {
     "ename": "NameError",
     "evalue": "name 'readmarks' is not defined",
     "output_type": "error",
     "traceback": [
      "\u001b[1;31m---------------------------------------------------------------------------\u001b[0m",
      "\u001b[1;31mNameError\u001b[0m                                 Traceback (most recent call last)",
      "\u001b[1;32m<ipython-input-8-274c097b2f5d>\u001b[0m in \u001b[0;36m<module>\u001b[1;34m\u001b[0m\n\u001b[0;32m      2\u001b[0m     \u001b[0mmarkslist\u001b[0m \u001b[1;33m=\u001b[0m \u001b[0mreadmarks\u001b[0m\u001b[1;33m(\u001b[0m\u001b[0mfilepath\u001b[0m\u001b[1;33m)\u001b[0m\u001b[1;33m\u001b[0m\u001b[1;33m\u001b[0m\u001b[0m\n\u001b[0;32m      3\u001b[0m     \u001b[1;32mreturn\u001b[0m \u001b[0mmarkslist\u001b[0m\u001b[1;33m.\u001b[0m\u001b[0mcount\u001b[0m\u001b[1;33m(\u001b[0m\u001b[0mmax\u001b[0m\u001b[1;33m(\u001b[0m\u001b[0mmarkslist\u001b[0m\u001b[1;33m)\u001b[0m\u001b[1;33m)\u001b[0m\u001b[1;33m\u001b[0m\u001b[1;33m\u001b[0m\u001b[0m\n\u001b[1;32m----> 4\u001b[1;33m \u001b[0mhighestmarksfre\u001b[0m\u001b[1;33m(\u001b[0m\u001b[0mfilepath\u001b[0m\u001b[1;33m)\u001b[0m\u001b[1;33m\u001b[0m\u001b[1;33m\u001b[0m\u001b[0m\n\u001b[0m",
      "\u001b[1;32m<ipython-input-8-274c097b2f5d>\u001b[0m in \u001b[0;36mhighestmarksfre\u001b[1;34m(fielpath)\u001b[0m\n\u001b[0;32m      1\u001b[0m \u001b[1;32mdef\u001b[0m \u001b[0mhighestmarksfre\u001b[0m\u001b[1;33m(\u001b[0m\u001b[0mfielpath\u001b[0m\u001b[1;33m)\u001b[0m\u001b[1;33m:\u001b[0m\u001b[1;33m\u001b[0m\u001b[1;33m\u001b[0m\u001b[0m\n\u001b[1;32m----> 2\u001b[1;33m     \u001b[0mmarkslist\u001b[0m \u001b[1;33m=\u001b[0m \u001b[0mreadmarks\u001b[0m\u001b[1;33m(\u001b[0m\u001b[0mfilepath\u001b[0m\u001b[1;33m)\u001b[0m\u001b[1;33m\u001b[0m\u001b[1;33m\u001b[0m\u001b[0m\n\u001b[0m\u001b[0;32m      3\u001b[0m     \u001b[1;32mreturn\u001b[0m \u001b[0mmarkslist\u001b[0m\u001b[1;33m.\u001b[0m\u001b[0mcount\u001b[0m\u001b[1;33m(\u001b[0m\u001b[0mmax\u001b[0m\u001b[1;33m(\u001b[0m\u001b[0mmarkslist\u001b[0m\u001b[1;33m)\u001b[0m\u001b[1;33m)\u001b[0m\u001b[1;33m\u001b[0m\u001b[1;33m\u001b[0m\u001b[0m\n\u001b[0;32m      4\u001b[0m \u001b[0mhighestmarksfre\u001b[0m\u001b[1;33m(\u001b[0m\u001b[0mfilepath\u001b[0m\u001b[1;33m)\u001b[0m\u001b[1;33m\u001b[0m\u001b[1;33m\u001b[0m\u001b[0m\n",
      "\u001b[1;31mNameError\u001b[0m: name 'readmarks' is not defined"
     ]
    }
   ],
   "source": [
    "def highestmarksfre(fielpath):\n",
    "    markslist = readmarks(filepath)\n",
    "    return markslist.count(max(markslist))\n",
    "highestmarksfre(filepath)\n"
   ]
  },
  {
   "cell_type": "markdown",
   "metadata": {},
   "source": [
    "### Data Encription\n",
    "\n",
    "Encript and Decript will be done based on key  \n",
    "Key - Mapping of data with replaced data/charectors\n",
    "\n",
    "* 0 -> 4\n",
    "* 1 -> 5\n",
    "* 2 -> 6                               O/P :- 0  4\n",
    "* 3 -> 7                                      1  5\n",
    "* 4 -> 8\n",
    "* 5 -> 9\n",
    "* 6 -> 0\n",
    "* 7 -> 1\n",
    "* 8 -> 2"
   ]
  },
  {
   "cell_type": "markdown",
   "metadata": {},
   "source": [
    "#### Function to generate key for encription"
   ]
  },
  {
   "cell_type": "code",
   "execution_count": 13,
   "metadata": {},
   "outputs": [],
   "source": [
    "keypath = \"Data Files/key.txt\"\n",
    "def generatekey(keypath):\n",
    "    with open(keypath, 'w')as f:\n",
    "        for i in range(10):\n",
    "            if i<6:\n",
    "                f.write(str(i)+\" \"+str(i+4)+\"\\n\")\n",
    "            else:\n",
    "                f.write(str(i)+\" \"+str(i-6)+\"\\n\")\n",
    "            \n",
    "generatekey(keypath)\n",
    "                \n",
    "    "
   ]
  },
  {
   "cell_type": "markdown",
   "metadata": {},
   "source": [
    "#### Marks application encription"
   ]
  },
  {
   "cell_type": "code",
   "execution_count": 23,
   "metadata": {},
   "outputs": [
    {
     "data": {
      "text/plain": [
       "{'0': '4',\n",
       " '1': '5',\n",
       " '2': '6',\n",
       " '3': '7',\n",
       " '4': '8',\n",
       " '5': '9',\n",
       " '6': '0',\n",
       " '7': '1',\n",
       " '8': '2',\n",
       " '9': '3'}"
      ]
     },
     "execution_count": 23,
     "metadata": {},
     "output_type": "execute_result"
    }
   ],
   "source": [
    "# Function to encript a data file\n",
    "keyfile = \"Data Files/key.txt\"\n",
    "def dictionarykeyfile(keyfile):\n",
    "    key = {}\n",
    "    with open(keyfile, 'r') as f:\n",
    "        for line in f:\n",
    "            line = line.split()\n",
    "            key[line[0]] = line[1]\n",
    "    return key\n",
    "\n",
    "dictionarykeyfile(keyfile)\n",
    "# def encriptmarksdata(datafile,keyfile):\n",
    "    # Construct a dictionary for key data\n",
    "    "
   ]
  },
  {
   "cell_type": "code",
   "execution_count": null,
   "metadata": {},
   "outputs": [],
   "source": []
  }
 ],
 "metadata": {
  "kernelspec": {
   "display_name": "Python 3",
   "language": "python",
   "name": "python3"
  },
  "language_info": {
   "codemirror_mode": {
    "name": "ipython",
    "version": 3
   },
   "file_extension": ".py",
   "mimetype": "text/x-python",
   "name": "python",
   "nbconvert_exporter": "python",
   "pygments_lexer": "ipython3",
   "version": "3.7.3"
  }
 },
 "nbformat": 4,
 "nbformat_minor": 2
}
