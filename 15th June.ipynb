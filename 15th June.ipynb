{
 "cells": [
  {
   "cell_type": "code",
   "execution_count": 1,
   "metadata": {},
   "outputs": [
    {
     "name": "stdout",
     "output_type": "stream",
     "text": [
      "-1\n"
     ]
    }
   ],
   "source": [
    "# List = [-3 2 -1 -2 3] \n",
    "### least number near to zero\n",
    "# sort the data   li.sort()\n",
    "#p1 = [-3 -2 -1 2 3] positive sorted list\n",
    "#absolute list [1 2 2 3 3]\n",
    "\n",
    "# p1(0) -> check this number is positive or negative\n",
    "#if p1(0) in li:\n",
    "#   return p1(0)\n",
    "#else:\n",
    " #   return -p1(0)\n",
    "li =[-1, -2, 2, 3, 1]\n",
    "li.sort()\n",
    "\n",
    "pl= []\n",
    "for i in li:\n",
    "    pl.append(abs(i))\n",
    "    \n",
    "    \n",
    "pl.sort()\n",
    "if pl[0] in li:\n",
    "    print(-pl[0])\n",
    "else:\n",
    "    print(pl[0])\n",
    "    "
   ]
  },
  {
   "cell_type": "code",
   "execution_count": 2,
   "metadata": {},
   "outputs": [
    {
     "name": "stdout",
     "output_type": "stream",
     "text": [
      "-100\n"
     ]
    }
   ],
   "source": [
    "## Farest from zero\n",
    "\n",
    "li =[-1, -2, 2, 3, 1, -100]\n",
    "li.sort()\n",
    "\n",
    "pl= []\n",
    "for i in li:\n",
    "    pl.append(abs(i))\n",
    "    \n",
    "    \n",
    "pl.sort()\n",
    "if pl[-1] in li:\n",
    "    print(pl[-1])\n",
    "else:\n",
    "    print(-pl[-1])"
   ]
  },
  {
   "cell_type": "code",
   "execution_count": null,
   "metadata": {},
   "outputs": [],
   "source": []
  },
  {
   "cell_type": "code",
   "execution_count": 17,
   "metadata": {},
   "outputs": [
    {
     "data": {
      "text/plain": [
       "98"
      ]
     },
     "execution_count": 17,
     "metadata": {},
     "output_type": "execute_result"
    }
   ],
   "source": [
    "# If 3 numbers a,b,c\n",
    "# Write a program to find the largest number less than or equal to c\n",
    "# and leaves the remainder b when divisible by a\n",
    "\n",
    "def cal(a,b,c):\n",
    "    for i in range(c, a-1, -1):  #-1 to print in reverse order\n",
    "        if i % a == b:\n",
    "            return i\n",
    "    return -1\n",
    "cal(3, 2, 100)"
   ]
  },
  {
   "cell_type": "code",
   "execution_count": null,
   "metadata": {},
   "outputs": [],
   "source": []
  },
  {
   "cell_type": "code",
   "execution_count": null,
   "metadata": {},
   "outputs": [],
   "source": []
  }
 ],
 "metadata": {
  "kernelspec": {
   "display_name": "Python 3",
   "language": "python",
   "name": "python3"
  },
  "language_info": {
   "codemirror_mode": {
    "name": "ipython",
    "version": 3
   },
   "file_extension": ".py",
   "mimetype": "text/x-python",
   "name": "python",
   "nbconvert_exporter": "python",
   "pygments_lexer": "ipython3",
   "version": "3.7.3"
  }
 },
 "nbformat": 4,
 "nbformat_minor": 2
}
