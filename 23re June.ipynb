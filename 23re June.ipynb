{
 "cells": [
  {
   "cell_type": "code",
   "execution_count": 10,
   "metadata": {},
   "outputs": [
    {
     "name": "stdout",
     "output_type": "stream",
     "text": [
      "word1\n",
      "word2 \n",
      "three four five\n"
     ]
    }
   ],
   "source": [
    "# Read a file\n",
    "\n",
    "def readFile(filepath):\n",
    "    with open(filepath,'r') as f:  # f is a variable/reference to save the file,   # r=mode(read)\n",
    "        filedata =f.read()  # Reads entire file data into a string\n",
    "    return filedata\n",
    "        \n",
    "filepath = \"Data Files/Data.txt\"\n",
    "print(readFile(filepath))\n"
   ]
  },
  {
   "cell_type": "code",
   "execution_count": 11,
   "metadata": {},
   "outputs": [
    {
     "data": {
      "text/plain": [
       "3"
      ]
     },
     "execution_count": 11,
     "metadata": {},
     "output_type": "execute_result"
    }
   ],
   "source": [
    "# Word count\n",
    "\n",
    "import re\n",
    "\n",
    "def wordcountfile(filepath):\n",
    "    pattern = \"[\\n]\"\n",
    "    filedata = readFile(filepath)\n",
    "    count = len(re.split(pattern,filedata))\n",
    "    return count\n",
    "filepath = \"Data Files/Data.txt\"\n",
    "wordcountfile(filepath)"
   ]
  },
  {
   "cell_type": "code",
   "execution_count": 8,
   "metadata": {},
   "outputs": [
    {
     "data": {
      "text/plain": [
       "[1, 2, 3, 4, 5, 6]"
      ]
     },
     "execution_count": 8,
     "metadata": {},
     "output_type": "execute_result"
    }
   ],
   "source": [
    "# Unique word count through list  ---- Remove redunction \n",
    "\n",
    "# Funtion to get unique elements in a list\n",
    "# list[1,2,3,3,2,1]  --> [1,2,3]\n",
    "# Create a empty unique list [1,2,3]\n",
    "\n",
    "def uniqueData(li):\n",
    "    # Create a empty unique list\n",
    "    unique = []\n",
    "    # For every element in the main list, Check if it exists in the unique list\n",
    "    # if it does not exist add to empty unique list\n",
    "    # Else if it exist move to next element in the main list\n",
    "    for element in li:\n",
    "        if element not in unique:\n",
    "            unique.append(element)\n",
    "    return unique\n",
    "\n",
    "li =[1,2,3,3,2,1,4,5,6]\n",
    "uniqueData(li)\n",
    "    "
   ]
  },
  {
   "cell_type": "code",
   "execution_count": 20,
   "metadata": {},
   "outputs": [
    {
     "data": {
      "text/plain": [
       "['word1', 'word2', 'three', 'four', 'five', 'word3']"
      ]
     },
     "execution_count": 20,
     "metadata": {},
     "output_type": "execute_result"
    }
   ],
   "source": [
    "# Unique words in a file\n",
    "\n",
    "def uniquewords(filepath):\n",
    "    uniqueelements =[]\n",
    "    with open(filepath,'r') as f:# f is a variable/reference to save the file,   # r=mode(read)\n",
    "        filedata =f.read()\n",
    "        li = filedata.split()\n",
    "    \n",
    "    for element in li:\n",
    "        if element not in uniqueelements:\n",
    "            uniqueelements.append(element)\n",
    "    return uniqueelements\n",
    "\n",
    "filepath = \"Data Files/Data.txt\"\n",
    "uniquewords(filepath)"
   ]
  },
  {
   "cell_type": "code",
   "execution_count": 28,
   "metadata": {},
   "outputs": [
    {
     "data": {
      "text/plain": [
       "['word1', 'word2', 'three', 'four', 'five', 'word3']"
      ]
     },
     "execution_count": 28,
     "metadata": {},
     "output_type": "execute_result"
    }
   ],
   "source": [
    "# Function to print the frequency count of a file\n",
    "# Frequency distribution \n",
    "\n",
    "# Data in line 1\n",
    "# Data in line 2\n",
    "# Data in line 3\n",
    "# O/P\n",
    "# Data : 3\n",
    "# in : 3\n",
    "# line : 3\n",
    "# 1 : 1\n",
    "# 2 : 1\n",
    "# 3 : 1 \n",
    "\n",
    "def frequencycount(filepath):\n",
    "    frequency =[]\n",
    "    with open(filepath,'r') as f:# f is a variable/reference to save the file,   # r=mode(read)\n",
    "        filedata =f.read()\n",
    "        li = file\n",
    "    for element in li:\n",
    "        frequency.append(element)\n",
    "        \n",
    "    return frequency.count(word)\n",
    "        \n",
    "       \n",
    "filepath = \"Data Files/Data.txt\"\n",
    "uniquewords(filepath)"
   ]
  },
  {
   "cell_type": "code",
   "execution_count": 26,
   "metadata": {},
   "outputs": [],
   "source": [
    "# Contacts appication\n",
    "# Find and repalce application"
   ]
  },
  {
   "cell_type": "code",
   "execution_count": 42,
   "metadata": {},
   "outputs": [
    {
     "name": "stdout",
     "output_type": "stream",
     "text": [
      "Data Files/contact.txt"
     ]
    },
    {
     "data": {
      "text/plain": [
       "'t'"
      ]
     },
     "execution_count": 42,
     "metadata": {},
     "output_type": "execute_result"
    }
   ],
   "source": [
    "def listoffiles(filepath):\n",
    "    li = []\n",
    "    for file in filepath:\n",
    "        print(file,end= \"\")\n",
    "    return file\n",
    "\n",
    "\n",
    "filepath = \"Data Files/contact.txt\"\n",
    "listoffiles(filepath)"
   ]
  },
  {
   "cell_type": "code",
   "execution_count": null,
   "metadata": {},
   "outputs": [],
   "source": []
  }
 ],
 "metadata": {
  "kernelspec": {
   "display_name": "Python 3",
   "language": "python",
   "name": "python3"
  },
  "language_info": {
   "codemirror_mode": {
    "name": "ipython",
    "version": 3
   },
   "file_extension": ".py",
   "mimetype": "text/x-python",
   "name": "python",
   "nbconvert_exporter": "python",
   "pygments_lexer": "ipython3",
   "version": "3.7.3"
  }
 },
 "nbformat": 4,
 "nbformat_minor": 2
}
