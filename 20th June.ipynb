{
 "cells": [
  {
   "cell_type": "markdown",
   "metadata": {},
   "source": [
    "### Day Objectives\n",
    "* Regular Expressions:\n",
    "    * Constructing Regular Expressions for various use cases\n",
    "    * Regular Expressions Modules and related in Python\n",
    "    * Improving the contacts application with name and phone number validation\n",
    "    \n",
    "* File Handling\n",
    "    * Text files\n",
    "    * Upgrading the Contacts, Application to store contact information in a text file"
   ]
  },
  {
   "cell_type": "markdown",
   "metadata": {},
   "source": [
    "#### Regular Expressions\n",
    "\n",
    "- Pattern Matching\n",
    "- Symbolic notation of pattern\n",
    "    - Pattern : Format which repeats\n",
    "    - Purpose fo a patten : Represents the set of all strings/values that matche that pattern\n",
    "    \n",
    "    regular expression tester   -  https://regex101.com/\n",
    "    \n",
    "    \n",
    "- [0-9]  --> Any digit\n",
    "- [a-z]  --> Any lowercase alphabet\n",
    "- [2468]  --> All single digit mutiples of 2 || [8642]   [6824]   [4628]\n",
    "    - ^[0-9]{1}$ --> only for single digit numbers\n",
    "    \n",
    "    - ^[0-9]{3}$ -->  Only 3 digits are acceptable\n",
    "       $ represents the expression exactly represents the no of charecters/digits --> 567 only\n",
    "       \n",
    "       $ is removed it highlight the first n charecters irrespective of string    --> *999*89889\n",
    "       \n",
    "       ^ represents the last values of string\n",
    "       \n",
    "               [0-9]*0$--> All multiples of 10 digit numbers    \n",
    "               \n",
    "                        --> All multiples of 5   ^[1-9]*[05]$ 0r ^([1-9][0-9]*[05])$|^([5])$\n",
    "                        \n",
    "                        --> Searching of a word ---> [w][o][r][d]\n",
    "                        \n",
    "                        --> validation of phone number{start with 9876 following by 9 digits)\n",
    "                        \n",
    "                        ^[6-9][0-9]{9}$|[0][[6-9][0-9]{9}$|^[+][9][1][6-9][0-9]{9}$\n",
    "                        \n",
    "                        --> Email validation (username@domain.extension)\n",
    "                        \n",
    "                         Format: \n",
    "                        -  Length of username : [6,15]\n",
    "                        -  No special charector otherthan _ .\n",
    "                        -  Should not bigin and with _ .\n",
    "                        -  Charecter set : All digits and lowercase alphabets\n",
    "                        -  domain : [3,18]\n",
    "                        -  Should not have a special charecters\n",
    "                        -  Charecter set : All digits and lowercase alphabets\n",
    "                        -- Extension : [2,4]\n",
    "                        -  Charecter set : All digits and alphabets\n",
    "                        -  Should not have a special charecters\n",
    "\n",
    "                           ^[0-9a-z][0-9a-z_.]{4,13}[0-9a-z][@][0-9a-z]{3,15}[.][a-z]{2,4}$\n",
    "                           \n",
    "^[a]...[z]$ --> Any string of length 5\n",
    "^[a].*[z]$  --> Any string of length n\n",
    "         "
   ]
  },
  {
   "cell_type": "code",
   "execution_count": 6,
   "metadata": {},
   "outputs": [
    {
     "data": {
      "text/plain": [
       "False"
      ]
     },
     "execution_count": 6,
     "metadata": {},
     "output_type": "execute_result"
    }
   ],
   "source": [
    "# Function to validate a phone number\n",
    "\n",
    "import re\n",
    "\n",
    "def phonenumbervalidator(num):\n",
    "    pattern = \"^[6-9][0-9]{9}$|[0][[6-9][0-9]{9}$|^[+][9][1][6-9][0-9]{9}$\"\n",
    "    if re.match(pattern,str(num)):\n",
    "        return True\n",
    "    else:\n",
    "        return False\n",
    "\n",
    "phonenumbervalidator(7045672354)\n",
    "\n",
    "import sys\n",
    "def emailvalidator(email):\n",
    "    pattern = \"  ^[0-9a-z][0-9a-z_.]{4,13}[0-9a-z][@][0-9a-z]{3,15}[.][a-z]{2,4}$\"\n",
    "    if re.match(pattern,email):\n",
    "        return True\n",
    "    else:\n",
    "        return False\n",
    "    \n",
    "emailvalidator(\"lalitha.msd@gmail.com\")"
   ]
  },
  {
   "cell_type": "code",
   "execution_count": 11,
   "metadata": {},
   "outputs": [
    {
     "name": "stdout",
     "output_type": "stream",
     "text": [
      "invalid\n"
     ]
    },
    {
     "data": {
      "text/plain": [
       "{'name1': [9056468494, 'name1@domain.ext'],\n",
       " 'name2': [7544644364, 'name2@gamil.com'],\n",
       " 'name3': [7534324237, 'name3@gmail.com']}"
      ]
     },
     "execution_count": 11,
     "metadata": {},
     "output_type": "execute_result"
    }
   ],
   "source": [
    "contacts ={\"name1\": [9056468494,'name1@domain.ext'],\"name2\": [7544644364, 'name2@gamil.com'],\"name3\":[7534324237,'name3@gmail.com']}\n",
    "def addcontact(name,phone,email):\n",
    "    # Verify the contact doesnot already exist\n",
    "    if name in contacts:\n",
    "        print(name,\"already exists\")\n",
    "        \n",
    "    else:\n",
    "        if not phonenumbervalidator(phone):\n",
    "            print(\"phone number is invalid\")\n",
    "            return\n",
    "        if not emailvalidator(email):\n",
    "            print(\"invalid\")\n",
    "            return\n",
    "        newcontact = []\n",
    "        newcontact.append(phone)\n",
    "        newcontact.append(email)\n",
    "        contacts[name] = newcontact\n",
    "        print(name,\"Contact added successfully\")\n",
    "    return  \n",
    "    \n",
    "\n",
    "\n",
    "addcontact(\"name10\",\"9877556434\",\"name1@domain.com\")\n",
    "\n",
    "contacts\n"
   ]
  },
  {
   "cell_type": "code",
   "execution_count": 46,
   "metadata": {},
   "outputs": [
    {
     "name": "stdout",
     "output_type": "stream",
     "text": [
      "name1\n",
      "phone : 9056468494\n",
      "email : name1@domain.ext\n"
     ]
    }
   ],
   "source": [
    "def searchcontacts(name):\n",
    "    if name in contacts:\n",
    "        print(name)\n",
    "        print(\"phone :\", contacts[name][0])\n",
    "        print(\"email :\", contacts[name][1])\n",
    "    else:\n",
    "        print(\"%s does not exist\" % name)\n",
    "    return\n",
    "\n",
    "searchcontacts(\"name1\")"
   ]
  },
  {
   "cell_type": "code",
   "execution_count": 51,
   "metadata": {},
   "outputs": [
    {
     "name": "stdout",
     "output_type": "stream",
     "text": [
      "1 contacts added\n"
     ]
    },
    {
     "data": {
      "text/plain": [
       "{'name1': [9056468494, 'name1@domain.ext'],\n",
       " 'name2': 345678,\n",
       " 'name3': 456789,\n",
       " 'name4': [9768456743, 'name4-123@gmail.com']}"
      ]
     },
     "execution_count": 51,
     "metadata": {},
     "output_type": "execute_result"
    }
   ],
   "source": [
    "# Importing contacts or new contacts in a given dictionary\n",
    "# Merge new contacts with existing contacts\n",
    "\n",
    "def importcontacts(newcontacts):\n",
    "    contacts.update(newcontacts)\n",
    "    print(len(newcontacts.keys()), \"contacts added\")\n",
    "    return\n",
    "newcontacts = {\"name4\" : [9768456743, \"name4-123@gmail.com\"]}\n",
    "importcontacts(newcontacts)\n",
    "contacts"
   ]
  },
  {
   "cell_type": "code",
   "execution_count": 53,
   "metadata": {},
   "outputs": [
    {
     "name": "stdout",
     "output_type": "stream",
     "text": [
      "name1 \n",
      " phone: 9056468494 \n",
      " email: name1@domain.ext\n"
     ]
    },
    {
     "ename": "TypeError",
     "evalue": "'int' object is not subscriptable",
     "output_type": "error",
     "traceback": [
      "\u001b[1;31m---------------------------------------------------------------------------\u001b[0m",
      "\u001b[1;31mTypeError\u001b[0m                                 Traceback (most recent call last)",
      "\u001b[1;32m<ipython-input-53-30a4e701f2dc>\u001b[0m in \u001b[0;36m<module>\u001b[1;34m\u001b[0m\n\u001b[0;32m      6\u001b[0m     \u001b[1;32mreturn\u001b[0m\u001b[1;33m\u001b[0m\u001b[1;33m\u001b[0m\u001b[0m\n\u001b[0;32m      7\u001b[0m \u001b[1;33m\u001b[0m\u001b[0m\n\u001b[1;32m----> 8\u001b[1;33m \u001b[0mlistallcontacts\u001b[0m\u001b[1;33m(\u001b[0m\u001b[1;33m)\u001b[0m\u001b[1;33m\u001b[0m\u001b[1;33m\u001b[0m\u001b[0m\n\u001b[0m\u001b[0;32m      9\u001b[0m \u001b[1;33m\u001b[0m\u001b[0m\n\u001b[0;32m     10\u001b[0m \u001b[1;33m\u001b[0m\u001b[0m\n",
      "\u001b[1;32m<ipython-input-53-30a4e701f2dc>\u001b[0m in \u001b[0;36mlistallcontacts\u001b[1;34m()\u001b[0m\n\u001b[0;32m      3\u001b[0m \u001b[1;32mdef\u001b[0m \u001b[0mlistallcontacts\u001b[0m\u001b[1;33m(\u001b[0m\u001b[1;33m)\u001b[0m\u001b[1;33m:\u001b[0m\u001b[1;33m\u001b[0m\u001b[1;33m\u001b[0m\u001b[0m\n\u001b[0;32m      4\u001b[0m     \u001b[1;32mfor\u001b[0m \u001b[0mcontact\u001b[0m\u001b[1;33m,\u001b[0m\u001b[0minfo\u001b[0m \u001b[1;32min\u001b[0m \u001b[0mcontacts\u001b[0m\u001b[1;33m.\u001b[0m\u001b[0mitems\u001b[0m\u001b[1;33m(\u001b[0m\u001b[1;33m)\u001b[0m\u001b[1;33m:\u001b[0m\u001b[1;33m\u001b[0m\u001b[1;33m\u001b[0m\u001b[0m\n\u001b[1;32m----> 5\u001b[1;33m         \u001b[0mprint\u001b[0m\u001b[1;33m(\u001b[0m\u001b[0mcontact\u001b[0m\u001b[1;33m,\u001b[0m \u001b[1;34m\"\\n\"\u001b[0m\u001b[1;33m,\u001b[0m \u001b[1;34m\"phone:\"\u001b[0m\u001b[1;33m,\u001b[0m \u001b[0minfo\u001b[0m\u001b[1;33m[\u001b[0m\u001b[1;36m0\u001b[0m\u001b[1;33m]\u001b[0m\u001b[1;33m,\u001b[0m \u001b[1;34m\"\\n\"\u001b[0m\u001b[1;33m,\u001b[0m \u001b[1;34m\"email:\"\u001b[0m\u001b[1;33m,\u001b[0m\u001b[0minfo\u001b[0m\u001b[1;33m[\u001b[0m\u001b[1;36m1\u001b[0m\u001b[1;33m]\u001b[0m\u001b[1;33m)\u001b[0m\u001b[1;33m\u001b[0m\u001b[1;33m\u001b[0m\u001b[0m\n\u001b[0m\u001b[0;32m      6\u001b[0m     \u001b[1;32mreturn\u001b[0m\u001b[1;33m\u001b[0m\u001b[1;33m\u001b[0m\u001b[0m\n\u001b[0;32m      7\u001b[0m \u001b[1;33m\u001b[0m\u001b[0m\n",
      "\u001b[1;31mTypeError\u001b[0m: 'int' object is not subscriptable"
     ]
    }
   ],
   "source": [
    "# Function to list all contacts\n",
    "\n",
    "def listallcontacts():\n",
    "    for contact,info in contacts.items():\n",
    "        print(contact, \"\\n\", \"phone:\", info[0], \"\\n\", \"email:\",info[1])\n",
    "    return\n",
    "\n",
    "listallcontacts()\n",
    "        \n",
    "        "
   ]
  },
  {
   "cell_type": "code",
   "execution_count": 1,
   "metadata": {},
   "outputs": [
    {
     "ename": "NameError",
     "evalue": "name 'phone' is not defined",
     "output_type": "error",
     "traceback": [
      "\u001b[1;31m---------------------------------------------------------------------------\u001b[0m",
      "\u001b[1;31mNameError\u001b[0m                                 Traceback (most recent call last)",
      "\u001b[1;32m<ipython-input-1-87ca8c6f6cd9>\u001b[0m in \u001b[0;36m<module>\u001b[1;34m\u001b[0m\n\u001b[0;32m      9\u001b[0m     \u001b[1;32mreturn\u001b[0m\u001b[1;33m\u001b[0m\u001b[1;33m\u001b[0m\u001b[0m\n\u001b[0;32m     10\u001b[0m \u001b[1;33m\u001b[0m\u001b[0m\n\u001b[1;32m---> 11\u001b[1;33m \u001b[0mmodifycontacts\u001b[0m\u001b[1;33m(\u001b[0m\u001b[0mphone\u001b[0m\u001b[1;33m,\u001b[0m\u001b[0memail\u001b[0m\u001b[1;33m)\u001b[0m\u001b[1;33m\u001b[0m\u001b[1;33m\u001b[0m\u001b[0m\n\u001b[0m",
      "\u001b[1;31mNameError\u001b[0m: name 'phone' is not defined"
     ]
    }
   ],
   "source": [
    "# Edit a contact \n",
    "def modifycontacts(phone,email):\n",
    "    if name in contacts:\n",
    "        contacts[name] = \"9348674343\"\n",
    "        contacts[name] =\"lalitha.msd@gmail.com\"\n",
    "        print(contact, \"\\n\", \"phone:\", info[0], \"\\n\", \"email:\",info[1])\n",
    "    else:\n",
    "        print(\"%s does not exist\" % name)\n",
    "    return\n",
    "\n",
    "modifycontacts(phone,email)"
   ]
  },
  {
   "cell_type": "markdown",
   "metadata": {},
   "source": [
    "#### File Handling in Python\n",
    "\n",
    "File - Document contianing information residing on the perment storage\n",
    "types - Text,PDF, CSV etc\n",
    "\n",
    "File I/O - Channelling I/O data to files\n",
    "Default I/O channels - Keyboard, Monitor/Screen\n",
    "\n",
    "Change I/O channel to files for Reading and writing\n",
    "\n",
    "Read a file - input from a file \n",
    "write to a file - output to a file\n",
    "\n",
    "Read/write a file - Open(filename,mode)"
   ]
  },
  {
   "cell_type": "code",
   "execution_count": 75,
   "metadata": {},
   "outputs": [
    {
     "name": "stdout",
     "output_type": "stream",
     "text": [
      "Line1\n",
      "\n",
      "Line2\n",
      "\n",
      "Line3\n",
      "Line1\n",
      "Line2\n",
      "Line3\n"
     ]
    }
   ],
   "source": [
    "# Function to read a file\n",
    "\n",
    "def readfile(filename):\n",
    "    f = open(filename,\"r\") # Read mode\n",
    "    filedata = f.read()\n",
    "    f.close()\n",
    "    return filedata\n",
    "filename = \"Data Files/Data.txt\" \n",
    "filedata = readfile(filename)\n",
    "\n",
    "#for line in filedata.split(\"\\n\"):\n",
    " #   print(line)\n",
    "    \n",
    "def printfiledatalines(filename):\n",
    "    f =open(filename,\"r\")\n",
    "    for line in f:\n",
    "        print(line)\n",
    "    return\n",
    "\n",
    "printfiledatalines(filename)\n",
    "print(readfile(filename))"
   ]
  },
  {
   "cell_type": "code",
   "execution_count": 79,
   "metadata": {},
   "outputs": [
    {
     "name": "stdout",
     "output_type": "stream",
     "text": [
      "Line1\n",
      "\n",
      "Line2\n",
      "\n",
      "Line3\n"
     ]
    }
   ],
   "source": [
    "def printfiledatalines(filename):\n",
    "    with open(filename,\"r\") as f:\n",
    "        for line in f:\n",
    "            print(line)\n",
    "        return\n",
    "    \n",
    "printfiledatalines(filename)\n"
   ]
  },
  {
   "cell_type": "code",
   "execution_count": 84,
   "metadata": {},
   "outputs": [],
   "source": [
    "# Function to write data into file\n",
    "def writeintofile(filename,filedata): # we have to give file data \n",
    "    with open(filename, 'w') as f:  # 'a' to add the data to the existing file\n",
    "                                    # \"W\" to overwrite the data in the file\n",
    "        f.write(filedata)\n",
    "    return\n",
    "filename = \"Data Files/Data.txt\"\n",
    "\n",
    "writeintofile(filename, \"new data\\n\")"
   ]
  },
  {
   "cell_type": "code",
   "execution_count": 90,
   "metadata": {},
   "outputs": [],
   "source": [
    "# Function to append data into the file\n",
    "\n",
    "def appenddatatofile(filename,filedata): # we have to give file data \n",
    "    with open(filename, 'a') as f:  # 'a' to add the data to the existing file\n",
    "        for line in filedata:                         # \"W\" to overwrite the data in the file\n",
    "            f.write(line)\n",
    "    return\n",
    "filedata = \"Line4\\nline5\"\n",
    "\n",
    "appenddatatofile(filename,filedata)"
   ]
  },
  {
   "cell_type": "code",
   "execution_count": null,
   "metadata": {},
   "outputs": [],
   "source": [
    "filename = 'DataFiles/contacts.txt'\n",
    "def csvToList(filename):\n",
    "    li = []\n",
    "    with open(filename, 'r') as f:\n",
    "        for line in f:\n",
    "            li.append(line.split(','))\n",
    "    return li\n",
    "\n",
    "def listToFile(li):\n",
    "    s = ''\n",
    "    for i in li:\n",
    "        s += ','.join(i)\n",
    "    return s\n",
    "    \n",
    "li = csvToList(filename)\n",
    "listToFile(li)"
   ]
  },
  {
   "cell_type": "code",
   "execution_count": null,
   "metadata": {},
   "outputs": [],
   "source": []
  }
 ],
 "metadata": {
  "kernelspec": {
   "display_name": "Python 3",
   "language": "python",
   "name": "python3"
  },
  "language_info": {
   "codemirror_mode": {
    "name": "ipython",
    "version": 3
   },
   "file_extension": ".py",
   "mimetype": "text/x-python",
   "name": "python",
   "nbconvert_exporter": "python",
   "pygments_lexer": "ipython3",
   "version": "3.7.3"
  }
 },
 "nbformat": 4,
 "nbformat_minor": 2
}
