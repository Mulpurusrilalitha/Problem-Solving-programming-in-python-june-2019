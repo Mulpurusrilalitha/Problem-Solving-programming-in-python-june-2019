{
 "cells": [
  {
   "cell_type": "code",
   "execution_count": 26,
   "metadata": {},
   "outputs": [
    {
     "name": "stdout",
     "output_type": "stream",
     "text": [
      "Invalid Phone number or Email\n"
     ]
    }
   ],
   "source": [
    "# Function to add contact to contacts text file\n",
    "from Packages.Validators import phonenumbervalidator as pnv, emailvalidator as ev\n",
    "#from Packages.validators import emailValidator as ev\n",
    "\n",
    "\n",
    "def addContact(name, phone, email):\n",
    "    # store data as name,phone,email in the contacts file    \n",
    "    filename = 'Data Files/Contacts.txt'\n",
    "    if not checkContactExists(name):\n",
    "        if pnv(phone) and ev(email):\n",
    "            with open(filename, 'a') as f:\n",
    "                line = name + ',' + str(phone) + ',' + email + '\\n'\n",
    "                f.write(line)\n",
    "            print(name, 'added to contacts')\n",
    "        else:\n",
    "            print('Invalid Phone number or Email')\n",
    "            return\n",
    "    else:\n",
    "        print(name, 'already exists')\n",
    "    return\n",
    "\n",
    "import re\n",
    "# Function to check if contact already exists\n",
    "def checkContactExists(name):\n",
    "    filename = 'Data Files/Contacts.txt'\n",
    "    with open(filename, 'r') as f:\n",
    "        filedata = f.read()\n",
    "        pattern = name+','\n",
    "    return re.search(pattern, filedata)\n",
    "\n",
    "addContact(\"name3\",7534324237,'name343@gmail.com')"
   ]
  },
  {
   "cell_type": "code",
   "execution_count": null,
   "metadata": {},
   "outputs": [],
   "source": []
  },
  {
   "cell_type": "code",
   "execution_count": 34,
   "metadata": {},
   "outputs": [
    {
     "name": "stdout",
     "output_type": "stream",
     "text": [
      "name1, 9845375899, name1-234@gamil.com\n",
      "\n"
     ]
    }
   ],
   "source": [
    "#Searching the contacts\n",
    "import re\n",
    "\n",
    "def searchcontacts(name):\n",
    "    with open(\"Data Files/Contacts.txt\",'r') as f:\n",
    "        line = f.readlines()\n",
    "        for i in line:\n",
    "            if re.search(name,i):\n",
    "                print(i)\n",
    "    \n",
    "\n",
    "searchcontacts(\"name1\")"
   ]
  },
  {
   "cell_type": "code",
   "execution_count": 30,
   "metadata": {},
   "outputs": [],
   "source": [
    "# Modify contacts\n",
    "import re\n",
    "def modifycontacts(name):\n",
    "    with open(\"Data Files/Contacts.txt\",'w') as f:\n",
    "        line = f.writelines\n",
    "        for i in "
   ]
  },
  {
   "cell_type": "code",
   "execution_count": null,
   "metadata": {},
   "outputs": [],
   "source": []
  }
 ],
 "metadata": {
  "kernelspec": {
   "display_name": "Python 3",
   "language": "python",
   "name": "python3"
  },
  "language_info": {
   "codemirror_mode": {
    "name": "ipython",
    "version": 3
   },
   "file_extension": ".py",
   "mimetype": "text/x-python",
   "name": "python",
   "nbconvert_exporter": "python",
   "pygments_lexer": "ipython3",
   "version": "3.7.3"
  }
 },
 "nbformat": 4,
 "nbformat_minor": 2
}
