{
 "cells": [
  {
   "cell_type": "code",
   "execution_count": 1,
   "metadata": {},
   "outputs": [
    {
     "data": {
      "text/plain": [
       "False"
      ]
     },
     "execution_count": 1,
     "metadata": {},
     "output_type": "execute_result"
    }
   ],
   "source": [
    "#Converstion of lower case to upper case and upper case to lower case\n",
    "\n",
    "s= \"abc\"\n",
    "s.islower()  # Check the case of a charecter\n",
    "s.isupper() \n",
    "s.lower()   #  \n",
    "\n",
    "s = list(s)\n",
    "\n",
    "# .join for spaces in string"
   ]
  },
  {
   "cell_type": "code",
   "execution_count": 6,
   "metadata": {},
   "outputs": [
    {
     "data": {
      "text/plain": [
       "'aBc'"
      ]
     },
     "execution_count": 6,
     "metadata": {},
     "output_type": "execute_result"
    }
   ],
   "source": [
    "# Function of a Toggle string charecters\n",
    "\n",
    "def togglestring(s):\n",
    "    # Convert string into a list of charecters\n",
    "    s=list(s)\n",
    "    t=[]\n",
    "    for c in s:\n",
    "        if c.islower():\n",
    "            t.append(c.upper())\n",
    "        else:\n",
    "            t.append(c.lower())\n",
    "    return \"\" .join(t)\n",
    "\n",
    "togglestring(\"AbC\")"
   ]
  },
  {
   "cell_type": "markdown",
   "metadata": {},
   "source": [
    "### Problem : Duration\n",
    "\n",
    "input : start time, endtime (HH, MM)\n",
    "        \n",
    "        HH-{00,23}  \n",
    "        \n",
    "        MM-{00,59}\n",
    "        \n",
    "        hh mm -  {00 00, 23 59}\n",
    "output : time difference in HH MM\n",
    "\n"
   ]
  },
  {
   "cell_type": "code",
   "execution_count": 56,
   "metadata": {},
   "outputs": [
    {
     "ename": "TypeError",
     "evalue": "'builtin_function_or_method' object is not subscriptable",
     "output_type": "error",
     "traceback": [
      "\u001b[1;31m---------------------------------------------------------------------------\u001b[0m",
      "\u001b[1;31mTypeError\u001b[0m                                 Traceback (most recent call last)",
      "\u001b[1;32m<ipython-input-56-689ff540e098>\u001b[0m in \u001b[0;36m<module>\u001b[1;34m\u001b[0m\n\u001b[0;32m     17\u001b[0m     \u001b[0mprint\u001b[0m\u001b[1;33m(\u001b[0m\u001b[0mhh\u001b[0m\u001b[1;33m,\u001b[0m \u001b[0mmm\u001b[0m\u001b[1;33m)\u001b[0m\u001b[1;33m\u001b[0m\u001b[1;33m\u001b[0m\u001b[0m\n\u001b[0;32m     18\u001b[0m \u001b[1;33m\u001b[0m\u001b[0m\n\u001b[1;32m---> 19\u001b[1;33m \u001b[0mminutes\u001b[0m \u001b[1;33m=\u001b[0m \u001b[0mminutesdifference\u001b[0m\u001b[1;33m(\u001b[0m\u001b[0ms\u001b[0m\u001b[1;33m)\u001b[0m\u001b[1;33m\u001b[0m\u001b[1;33m\u001b[0m\u001b[0m\n\u001b[0m\u001b[0;32m     20\u001b[0m \u001b[1;33m\u001b[0m\u001b[0m\n\u001b[0;32m     21\u001b[0m \u001b[0moutputTimeFormat\u001b[0m\u001b[1;33m(\u001b[0m\u001b[0mminutes\u001b[0m\u001b[1;33m)\u001b[0m\u001b[1;33m\u001b[0m\u001b[1;33m\u001b[0m\u001b[0m\n",
      "\u001b[1;32m<ipython-input-56-689ff540e098>\u001b[0m in \u001b[0;36mminutesdifference\u001b[1;34m(s)\u001b[0m\n\u001b[0;32m      4\u001b[0m \u001b[1;32mdef\u001b[0m \u001b[0mminutesdifference\u001b[0m\u001b[1;33m(\u001b[0m\u001b[0ms\u001b[0m\u001b[1;33m)\u001b[0m\u001b[1;33m:\u001b[0m\u001b[1;33m\u001b[0m\u001b[1;33m\u001b[0m\u001b[0m\n\u001b[0;32m      5\u001b[0m     \u001b[0ms\u001b[0m\u001b[1;33m=\u001b[0m \u001b[0ms\u001b[0m\u001b[1;33m.\u001b[0m\u001b[0msplit\u001b[0m\u001b[1;33m\u001b[0m\u001b[1;33m\u001b[0m\u001b[0m\n\u001b[1;32m----> 6\u001b[1;33m     \u001b[0msh\u001b[0m\u001b[1;33m=\u001b[0m \u001b[0mint\u001b[0m\u001b[1;33m(\u001b[0m\u001b[1;33m(\u001b[0m\u001b[0ms\u001b[0m\u001b[1;33m[\u001b[0m\u001b[1;36m0\u001b[0m\u001b[1;33m]\u001b[0m\u001b[1;33m)\u001b[0m\u001b[1;33m)\u001b[0m\u001b[1;33m\u001b[0m\u001b[1;33m\u001b[0m\u001b[0m\n\u001b[0m\u001b[0;32m      7\u001b[0m     \u001b[0msm\u001b[0m\u001b[1;33m=\u001b[0m \u001b[0mint\u001b[0m\u001b[1;33m(\u001b[0m\u001b[1;33m(\u001b[0m\u001b[0ms\u001b[0m\u001b[1;33m[\u001b[0m\u001b[1;36m1\u001b[0m\u001b[1;33m]\u001b[0m\u001b[1;33m)\u001b[0m\u001b[1;33m)\u001b[0m\u001b[1;33m\u001b[0m\u001b[1;33m\u001b[0m\u001b[0m\n\u001b[0;32m      8\u001b[0m     \u001b[0meh\u001b[0m\u001b[1;33m=\u001b[0m \u001b[0mint\u001b[0m\u001b[1;33m(\u001b[0m\u001b[1;33m(\u001b[0m\u001b[0ms\u001b[0m\u001b[1;33m[\u001b[0m\u001b[1;36m2\u001b[0m\u001b[1;33m]\u001b[0m\u001b[1;33m)\u001b[0m\u001b[1;33m)\u001b[0m\u001b[1;33m\u001b[0m\u001b[1;33m\u001b[0m\u001b[0m\n",
      "\u001b[1;31mTypeError\u001b[0m: 'builtin_function_or_method' object is not subscriptable"
     ]
    }
   ],
   "source": [
    "# The time difference as total number of minutes\n",
    "# Convert the total minutes into HH MM\n",
    "s = \" 1 44 2 14 \"\n",
    "def minutesdifference(s):\n",
    "    s= s.split\n",
    "    sh= int((s[0]))\n",
    "    sm= int((s[1]))\n",
    "    eh= int((s[2]))        \n",
    "    em= int((s[3]))\n",
    "    startminutes = (sh*60)+sm\n",
    "    endminutes = (eh*60)+60+em\n",
    "    return endminutes-startminutes\n",
    "def outputTimeFormat(minutes):\n",
    "    # convert minutes to HH MM\n",
    "    hh = minutes//60\n",
    "    mm = minutes%60\n",
    "    print(hh, mm)\n",
    "    \n",
    "minutes = minutesdifference(s)\n",
    "\n",
    "outputTimeFormat(minutes)      \n",
    "\n",
    "    "
   ]
  },
  {
   "cell_type": "code",
   "execution_count": null,
   "metadata": {},
   "outputs": [],
   "source": [
    "# Play with numbers\n",
    "\n",
    "line 1 : Array size(n), no of queries(q)\n",
    "line 2 : "
   ]
  },
  {
   "cell_type": "code",
   "execution_count": 5,
   "metadata": {},
   "outputs": [
    {
     "name": "stdout",
     "output_type": "stream",
     "text": [
      "2\n",
      "6\n",
      "6\n",
      "YES\n",
      "7\n",
      "1\n",
      "NO\n"
     ]
    }
   ],
   "source": [
    "# Perfect number\n",
    "\n",
    "def factnumber(n):\n",
    "    sum=0\n",
    "    for i in range(1,n):\n",
    "        if n%i==0:\n",
    "            # print(i, end =\" \")\n",
    "            sum = sum+i\n",
    "    print(sum)\n",
    "    \n",
    "    if n==sum:\n",
    "        print(\"YES\")\n",
    "    else:\n",
    "        print(\"NO\")\n",
    "\n",
    "n=int(input())\n",
    "\n",
    "for i in range(n):\n",
    "    n=int(input())\n",
    "    factnumber(n)\n",
    "    \n",
    "\n"
   ]
  },
  {
   "cell_type": "code",
   "execution_count": 59,
   "metadata": {
    "scrolled": true
   },
   "outputs": [
    {
     "name": "stdout",
     "output_type": "stream",
     "text": [
      "True\n"
     ]
    }
   ],
   "source": [
    "# Number of Prime Factors  # Special number\n",
    "\n",
    "def factors(n):\n",
    "    count=0\n",
    "    for i in range(2,n):\n",
    "        if n%i==0:\n",
    "            count =count+1\n",
    "    if count>1:\n",
    "        print(\"True\")  \n",
    "    else:\n",
    "        print(\"False\")\n",
    "n=28\n",
    "factors(n)"
   ]
  },
  {
   "cell_type": "code",
   "execution_count": 7,
   "metadata": {},
   "outputs": [
    {
     "name": "stdout",
     "output_type": "stream",
     "text": [
      "30\n",
      "16\n"
     ]
    }
   ],
   "source": [
    "#Remainder N%(N-1)\n",
    "\n",
    "def remainder(n):\n",
    "    l=0\n",
    "    li = []\n",
    "    maxn = 0\n",
    "    for i in range(1,n):\n",
    "        if n>i:\n",
    "            rem = n%i\n",
    "            li.append(rem)\n",
    "            if maxn<max(li):\n",
    "                maxn=max(li)\n",
    "                l=i\n",
    "    print(l)\n",
    "n=int(input())\n",
    "remainder(n)\n",
    "  "
   ]
  },
  {
   "cell_type": "code",
   "execution_count": 2,
   "metadata": {},
   "outputs": [
    {
     "name": "stdout",
     "output_type": "stream",
     "text": [
      "13abAC56Ts\n",
      "The number of letters 6\n",
      "The number of digits 4\n"
     ]
    }
   ],
   "source": [
    "# Charecters and digits\n",
    "\n",
    "s=input()\n",
    "n=0\n",
    "a=0\n",
    "for i in s:\n",
    "    if i.isdigit():\n",
    "        n=n+1\n",
    "\n",
    "    elif i.isalpha():\n",
    "        a=a+1\n",
    "        \n",
    "    \n",
    "print(\"The number of letters\",a)          \n",
    "print(\"The number of digits\",n)\n",
    "        "
   ]
  },
  {
   "cell_type": "code",
   "execution_count": null,
   "metadata": {},
   "outputs": [],
   "source": []
  }
 ],
 "metadata": {
  "kernelspec": {
   "display_name": "Python 3",
   "language": "python",
   "name": "python3"
  },
  "language_info": {
   "codemirror_mode": {
    "name": "ipython",
    "version": 3
   },
   "file_extension": ".py",
   "mimetype": "text/x-python",
   "name": "python",
   "nbconvert_exporter": "python",
   "pygments_lexer": "ipython3",
   "version": "3.7.3"
  }
 },
 "nbformat": 4,
 "nbformat_minor": 2
}
