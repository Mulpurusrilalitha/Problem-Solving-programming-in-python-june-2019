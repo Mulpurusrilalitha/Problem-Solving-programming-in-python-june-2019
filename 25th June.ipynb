{
 "cells": [
  {
   "cell_type": "code",
   "execution_count": 1,
   "metadata": {},
   "outputs": [],
   "source": [
    "# Contacts Application\n",
    "    # Add Search, List, Modify delete contacts\n",
    "    \n",
    "# Find and replace\n",
    "    # Count the tatal number of occurances of a word\n",
    "    # If word is existing\n",
    "    # Replace all occurances of a word with another word\n",
    "        \n",
    "# Marks Analysis application\n",
    "    # Generate marks file for n students\n",
    "    # Input - Marks text file  -> each line in a text file contains marks of students\n",
    "    # Generates a report with the following information\n",
    "        # Class Average \n",
    "        # % of students passed \n",
    "        # % of students failed\n",
    "        # % of students got distinction\n",
    "\n",
    "# Function to generate marks data for n students\n",
    "\n",
    "from random import randint\n",
    "def generateMarks(n, lb, ub):\n",
    "    with open(\"Data Files/marks.txt\",\"w\") as f:\n",
    "        for i in range(0,n):\n",
    "            r =randint(lb,ub)\n",
    "            f.write(str(r)+\"\\n\")\n",
    "    return\n",
    "generateMarks(100,0,100)"
   ]
  },
  {
   "cell_type": "code",
   "execution_count": 2,
   "metadata": {},
   "outputs": [
    {
     "data": {
      "text/plain": [
       "49"
      ]
     },
     "execution_count": 2,
     "metadata": {},
     "output_type": "execute_result"
    }
   ],
   "source": [
    " # Class Average\n",
    "\n",
    "def average(filepath):\n",
    "    sum = 0\n",
    "    count =0\n",
    "    with open(\"Data Files/marks.txt\",\"r\") as f:\n",
    "        filedata = f.read().split() \n",
    "        marks = filedata\n",
    "        for i in marks :\n",
    "            sum = sum+int(i)\n",
    "            count = count+1\n",
    "        avg = sum//count\n",
    "        a = avg\n",
    "    return a\n",
    "filepath = 'Data Files/marks.txt'\n",
    "average(filepath)"
   ]
  },
  {
   "cell_type": "code",
   "execution_count": 3,
   "metadata": {},
   "outputs": [
    {
     "data": {
      "text/plain": [
       "57"
      ]
     },
     "execution_count": 3,
     "metadata": {},
     "output_type": "execute_result"
    }
   ],
   "source": [
    "# % of students passed \n",
    "\n",
    "def noofstudentspass(filepath):\n",
    "    sum = 0\n",
    "    count =0\n",
    "    with open(\"Data Files/marks.txt\",\"r\") as f:\n",
    "        filedata = f.read().split() \n",
    "        marks = filedata\n",
    "        for i in marks :\n",
    "            if int(i)>40:\n",
    "                sum = sum+int(i)\n",
    "                count = count+1\n",
    "            percent = count//len(marks)\n",
    "    return count\n",
    "filepath = 'Data Files/marks.txt'\n",
    "noofstudentspass(filepath)"
   ]
  },
  {
   "cell_type": "code",
   "execution_count": 4,
   "metadata": {},
   "outputs": [
    {
     "data": {
      "text/plain": [
       "40"
      ]
     },
     "execution_count": 4,
     "metadata": {},
     "output_type": "execute_result"
    }
   ],
   "source": [
    "# % of students failed\n",
    "\n",
    "def noofstudentsfail(filepath):\n",
    "    sum = 0\n",
    "    count =0\n",
    "    with open(\"Data Files/marks.txt\",\"r\") as f:\n",
    "        filedata = f.read().split() \n",
    "        marks = filedata\n",
    "        for i in marks :\n",
    "            if int(i)<40:\n",
    "                sum = sum+int(i)\n",
    "                count = count+1\n",
    "            percent = count//len(marks)\n",
    "    return count\n",
    "filepath = 'Data Files/marks.txt'\n",
    "noofstudentsfail(filepath)"
   ]
  },
  {
   "cell_type": "code",
   "execution_count": 5,
   "metadata": {},
   "outputs": [
    {
     "data": {
      "text/plain": [
       "22"
      ]
     },
     "execution_count": 5,
     "metadata": {},
     "output_type": "execute_result"
    }
   ],
   "source": [
    "# % of students got distinction\n",
    "\n",
    "def noofstudentsgotdistinction(filepath):\n",
    "    sum = 0\n",
    "    count =0\n",
    "    with open(\"Data Files/marks.txt\",\"r\") as f:\n",
    "        filedata = f.read().split() \n",
    "        marks = filedata\n",
    "        for i in marks :\n",
    "            if int(i)>75:\n",
    "                sum = sum+int(i)\n",
    "                count = count+1\n",
    "            percent = count//len(marks)\n",
    "    return count\n",
    "filepath = 'Data Files/marks.txt'\n",
    "noofstudentsgotdistinction(filepath)"
   ]
  },
  {
   "cell_type": "code",
   "execution_count": 12,
   "metadata": {},
   "outputs": [
    {
     "ename": "ZeroDivisionError",
     "evalue": "integer division or modulo by zero",
     "output_type": "error",
     "traceback": [
      "\u001b[1;31m---------------------------------------------------------------------------\u001b[0m",
      "\u001b[1;31mZeroDivisionError\u001b[0m                         Traceback (most recent call last)",
      "\u001b[1;32m<ipython-input-12-dafb8cb72098>\u001b[0m in \u001b[0;36m<module>\u001b[1;34m\u001b[0m\n\u001b[0;32m     22\u001b[0m         \u001b[1;32mreturn\u001b[0m \u001b[0ma\u001b[0m\u001b[1;33m\u001b[0m\u001b[1;33m\u001b[0m\u001b[0m\n\u001b[0;32m     23\u001b[0m     \u001b[0mfilepath\u001b[0m \u001b[1;33m=\u001b[0m \u001b[1;34m'Data Files/marks1.txt'\u001b[0m\u001b[1;33m\u001b[0m\u001b[1;33m\u001b[0m\u001b[0m\n\u001b[1;32m---> 24\u001b[1;33m     \u001b[0maverage\u001b[0m\u001b[1;33m(\u001b[0m\u001b[0mfilepath\u001b[0m\u001b[1;33m)\u001b[0m\u001b[1;33m\u001b[0m\u001b[1;33m\u001b[0m\u001b[0m\n\u001b[0m\u001b[0;32m     25\u001b[0m     \u001b[1;32mdef\u001b[0m \u001b[0mnoofstudentspass\u001b[0m\u001b[1;33m(\u001b[0m\u001b[0mfilepath\u001b[0m\u001b[1;33m)\u001b[0m\u001b[1;33m:\u001b[0m\u001b[1;33m\u001b[0m\u001b[1;33m\u001b[0m\u001b[0m\n\u001b[0;32m     26\u001b[0m         \u001b[0msum\u001b[0m \u001b[1;33m=\u001b[0m \u001b[1;36m0\u001b[0m\u001b[1;33m\u001b[0m\u001b[1;33m\u001b[0m\u001b[0m\n",
      "\u001b[1;32m<ipython-input-12-dafb8cb72098>\u001b[0m in \u001b[0;36maverage\u001b[1;34m(filepath)\u001b[0m\n\u001b[0;32m     18\u001b[0m                 \u001b[0msum\u001b[0m \u001b[1;33m=\u001b[0m \u001b[0msum\u001b[0m\u001b[1;33m+\u001b[0m\u001b[0mint\u001b[0m\u001b[1;33m(\u001b[0m\u001b[0mi\u001b[0m\u001b[1;33m)\u001b[0m\u001b[1;33m\u001b[0m\u001b[1;33m\u001b[0m\u001b[0m\n\u001b[0;32m     19\u001b[0m                 \u001b[0mcount\u001b[0m \u001b[1;33m=\u001b[0m \u001b[0mcount\u001b[0m\u001b[1;33m+\u001b[0m\u001b[1;36m1\u001b[0m\u001b[1;33m\u001b[0m\u001b[1;33m\u001b[0m\u001b[0m\n\u001b[1;32m---> 20\u001b[1;33m             \u001b[0mavg\u001b[0m \u001b[1;33m=\u001b[0m \u001b[0msum\u001b[0m\u001b[1;33m//\u001b[0m\u001b[0mcount\u001b[0m\u001b[1;33m\u001b[0m\u001b[1;33m\u001b[0m\u001b[0m\n\u001b[0m\u001b[0;32m     21\u001b[0m             \u001b[0ma\u001b[0m \u001b[1;33m=\u001b[0m \u001b[0mavg\u001b[0m\u001b[1;33m\u001b[0m\u001b[1;33m\u001b[0m\u001b[0m\n\u001b[0;32m     22\u001b[0m         \u001b[1;32mreturn\u001b[0m \u001b[0ma\u001b[0m\u001b[1;33m\u001b[0m\u001b[1;33m\u001b[0m\u001b[0m\n",
      "\u001b[1;31mZeroDivisionError\u001b[0m: integer division or modulo by zero"
     ]
    }
   ],
   "source": [
    "# Function to check if two strings are anagrams\n",
    "# abc cba --> True\n",
    "# aabbcc ccbbaaa --> False\n",
    "\n",
    "\n",
    "    \n"
   ]
  },
  {
   "cell_type": "code",
   "execution_count": null,
   "metadata": {},
   "outputs": [],
   "source": []
  },
  {
   "cell_type": "code",
   "execution_count": null,
   "metadata": {},
   "outputs": [],
   "source": [
    "# Exam Problem -- Digit frequency\n",
    " \n",
    "#s=123abc456def\n",
    "\n",
    "#s =a11472o5t6  --> o/p : 0 2 0 1 1 1 1 0 \n",
    "  \n",
    "def uniquedata(allnumbers):\n",
    "    unique = []\n",
    "    for i in allnumbers:\n",
    "        if n not in unique:\n",
    "            unique\n",
    "def digitfrequency(s):\n",
    "    allnumbers = []\n",
    "    for i in s:\n",
    "        if i.isdigit():\n",
    "            allnumbers.append(i)\n",
    "    unique = uniquedata(allnumbers)\n",
    "    for i in range(0,9):\n",
    "        if str(i) not in unique:\n",
    "            print(0,end= \" \")\n",
    "        else:\n",
    "            count = allnumbers.count(str(i))\n",
    "            print(count, end =\" \")\n",
    "s=  \"a11472o5t6\"\n",
    "digitfrequency(s)"
   ]
  },
  {
   "cell_type": "code",
   "execution_count": null,
   "metadata": {},
   "outputs": [],
   "source": []
  },
  {
   "cell_type": "code",
   "execution_count": null,
   "metadata": {},
   "outputs": [],
   "source": []
  }
 ],
 "metadata": {
  "kernelspec": {
   "display_name": "Python 3",
   "language": "python",
   "name": "python3"
  },
  "language_info": {
   "codemirror_mode": {
    "name": "ipython",
    "version": 3
   },
   "file_extension": ".py",
   "mimetype": "text/x-python",
   "name": "python",
   "nbconvert_exporter": "python",
   "pygments_lexer": "ipython3",
   "version": "3.7.3"
  }
 },
 "nbformat": 4,
 "nbformat_minor": 2
}
