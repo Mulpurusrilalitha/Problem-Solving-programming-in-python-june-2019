{
 "cells": [
  {
   "cell_type": "markdown",
   "metadata": {},
   "source": [
    " ### Problem Solving and Programming in Python\n",
    " \n",
    " #### Date - 14th June 2019\n",
    " \n",
    " #### Day Objectives\n",
    " \n",
    "-Python Data Structures\n",
    "    * Lists\n",
    "    * Tuples\n",
    "    * Dictionary\n",
    "-Basic problem set on Data structures\n",
    "-Advanced problem set\n",
    "-Packages and Modules in Python\n"
   ]
  },
  {
   "cell_type": "code",
   "execution_count": null,
   "metadata": {},
   "outputs": [],
   "source": []
  },
  {
   "cell_type": "markdown",
   "metadata": {},
   "source": [
    "### Python Data Structures\n",
    "\n",
    "##### Allows to structre the data\n",
    "\n",
    "#### Lits\n",
    "##### Allows heterogenious data also"
   ]
  },
  {
   "cell_type": "code",
   "execution_count": 1,
   "metadata": {},
   "outputs": [
    {
     "data": {
      "text/plain": [
       "456.0"
      ]
     },
     "execution_count": 1,
     "metadata": {},
     "output_type": "execute_result"
    }
   ],
   "source": [
    "li = [123,978,654]\n",
    "\n",
    "li # Access the entire list\n",
    "\n",
    "li[1] # Accessing an element with index in a list\n",
    "\n",
    "li[1:] # Accessing 2nd to last value\n",
    "\n",
    "li[ ::-1] # Accessing reverse\n",
    "\n",
    "li = li[::-1]\n",
    "                  # To reverse the original list\n",
    "li\n",
    "\n",
    "li = li[::-1]\n",
    "                  # To get the original list from reverse list\n",
    "li\n",
    "\n",
    "li[::2]        # Accessing Even elements\n",
    "\n",
    "li[1::2]\n",
    "\n",
    "# Lists can be accessed , manipulated in two ways\n",
    "\n",
    "        # Direct referencing - [index]\n",
    "        # indirect referencing - through Functions\n",
    "        \n",
    "\n",
    "li.append(345)   # Adding an element to end of the list\n",
    "li\n",
    "\n",
    "li.insert(1,234) # Adding an element at a perticular index\n",
    "li\n",
    "\n",
    "li.sort()  # sort elements in ascending order\n",
    "li\n",
    "\n",
    "li.pop()    #Remove the last element\n",
    "li\n",
    "\n",
    "li.pop(1)  # To remove the second element\n",
    "li\n",
    "\n",
    "li2 = [234, 456,789]\n",
    "\n",
    "li.extend(li2)  # Merge list 2 into list 1\n",
    "li\n",
    "\n",
    "\n",
    "sum(li)  # Sum of all values\n",
    "max(li)  # To get the maximum\n",
    "len(li)  # length of list\n",
    "\n",
    "# Average of list of elements\n",
    "\n",
    "sum(li)/len(li)\n",
    "\n",
    "# Average of alternate at even positions\n",
    "      \n",
    "sum(li[::2])/len(li[::2])\n",
    "\n",
    "# odd positions\n",
    "\n",
    "sum(li[1::2])/len(li[::2])\n"
   ]
  },
  {
   "cell_type": "code",
   "execution_count": 2,
   "metadata": {},
   "outputs": [
    {
     "data": {
      "text/plain": [
       "[123, 234, 345, 456, 654, 789]"
      ]
     },
     "execution_count": 2,
     "metadata": {},
     "output_type": "execute_result"
    }
   ],
   "source": [
    "# Function to identify second largest in a unique list\n",
    "        # sort the data and select 2nd last\n",
    "        # sort the data in reverse and select 2nd one\n",
    "        # Remove max element and get the max\n",
    "        \n",
    "\n",
    "def secondlargest(li):\n",
    "    li.sort()               # Second largest for unique data\n",
    "    return li[-2]\n",
    "\n",
    "# Function that returns nth largesrt   \n",
    "def genericlargest(li,n):\n",
    "    li.sort()\n",
    "    return li[-n]\n",
    "\n",
    "\n",
    "secondlargest(li)\n",
    "genericlargest(li,5) #234\n",
    "li"
   ]
  },
  {
   "cell_type": "code",
   "execution_count": 3,
   "metadata": {},
   "outputs": [
    {
     "data": {
      "text/plain": [
       "1"
      ]
     },
     "execution_count": 3,
     "metadata": {},
     "output_type": "execute_result"
    }
   ],
   "source": [
    "# Function to search for data in a list\n",
    "# search for the key in the list, writen index(position) or return -1 if not found\n",
    "\n",
    "def linearsearch(li,key):\n",
    "    for index in range(0,len(li)):\n",
    "        if li[index] == key:\n",
    "            return index\n",
    "    return -1\n",
    "\n",
    "def linearsearch2(li,key):\n",
    "    for element in li:\n",
    "        if element == key:\n",
    "            return li.index(element)\n",
    "    return -1\n",
    "\n",
    "def linearsearch3(li,key):\n",
    "    if key in li:\n",
    "        return li.index(key)\n",
    "    return -1\n",
    "\n",
    "\n",
    "linearsearch3(li,234)"
   ]
  },
  {
   "cell_type": "code",
   "execution_count": 4,
   "metadata": {},
   "outputs": [
    {
     "data": {
      "text/plain": [
       "0"
      ]
     },
     "execution_count": 4,
     "metadata": {},
     "output_type": "execute_result"
    }
   ],
   "source": [
    "# Function to count the occurances of a character in a string\n",
    "# Python Programming\", m->2\n",
    "\n",
    "def countoccurances(s,c):\n",
    "    count = 0\n",
    "    for ch in s:\n",
    "        if ch == c:\n",
    "            count += 1\n",
    "    return count\n",
    "\n",
    "def countoccurances2(s,c):\n",
    "    return s.count(c)\n",
    "\n",
    "countoccurances2(\"Python Programming\", \"m\")\n",
    "\n",
    "# Function to find the number of occurances of  sub string\n",
    "# 'abcabcddcbaaaa'=\"ab\" ->2 def countoccurances(s,c):\n",
    "\n",
    "def countoccurances(s,c):\n",
    "    count = 0\n",
    "    for ch in s:\n",
    "        if ch == c:\n",
    "            count += 1\n",
    "    return count\n",
    "\n",
    "def countoccurances2(s,c):\n",
    "    return c.count(s)\n",
    "\n",
    "countoccurances2(\"abcabcddcbaaaa\", \"ab\")\n",
    "\n",
    "    \n",
    "    \n"
   ]
  },
  {
   "cell_type": "code",
   "execution_count": 2,
   "metadata": {},
   "outputs": [
    {
     "data": {
      "text/plain": [
       "[1, 2, 3, 4, 5, 6]"
      ]
     },
     "execution_count": 2,
     "metadata": {},
     "output_type": "execute_result"
    }
   ],
   "source": [
    "#To add the numbers in a list\n",
    "\n",
    "s = \"1 2 3 4 5 6\"\n",
    "li = s.split()\n",
    "numberslist =[]\n",
    "for i in li:\n",
    "    numberslist.append(int(i))\n",
    "numberslist"
   ]
  },
  {
   "cell_type": "code",
   "execution_count": null,
   "metadata": {},
   "outputs": [],
   "source": []
  },
  {
   "cell_type": "markdown",
   "metadata": {},
   "source": []
  },
  {
   "cell_type": "code",
   "execution_count": null,
   "metadata": {},
   "outputs": [],
   "source": []
  },
  {
   "cell_type": "code",
   "execution_count": 6,
   "metadata": {},
   "outputs": [
    {
     "name": "stdout",
     "output_type": "stream",
     "text": [
      "3\n"
     ]
    },
    {
     "data": {
      "text/plain": [
       "14"
      ]
     },
     "execution_count": 6,
     "metadata": {},
     "output_type": "execute_result"
    }
   ],
   "source": [
    "# 1^2+2^2+3^2 problem\n",
    "\n",
    "n= int(input())\n",
    "def sumofsquares(n):\n",
    "    sum=0\n",
    "    for i in range(1,n+1):\n",
    "        sum=sum+i**2\n",
    "    return sum\n",
    "\n",
    "sumofsquares(n)\n",
    "        "
   ]
  },
  {
   "cell_type": "code",
   "execution_count": null,
   "metadata": {},
   "outputs": [],
   "source": []
  },
  {
   "cell_type": "code",
   "execution_count": 21,
   "metadata": {},
   "outputs": [
    {
     "name": "stdout",
     "output_type": "stream",
     "text": [
      "-1\n"
     ]
    }
   ],
   "source": [
    "# List = [-3 2 -1 -2 3] \n",
    "### least number near to zero\n",
    "# sort the data   li.sort()\n",
    "#p1 = [-3 -2 -1 2 3] positive sorted list\n",
    "#absolute list [1 2 2 3 3]\n",
    "\n",
    "# p1(0) -> check this number is positive or negative\n",
    "#if p1(0) in li:\n",
    "#   return p1(0)\n",
    "#else:\n",
    " #   return -p1(0)\n",
    "li =[-1, -2, 2, 3, 1]\n",
    "li.sort()\n",
    "\n",
    "pl= []\n",
    "for i in li:\n",
    "    pl.append(abs(i))\n",
    "    \n",
    "    \n",
    "pl.sort()\n",
    "if pl[0] in li:\n",
    "    print(-pl[0])\n",
    "else:\n",
    "    print(pl[0])\n",
    "    "
   ]
  },
  {
   "cell_type": "code",
   "execution_count": 4,
   "metadata": {},
   "outputs": [
    {
     "ename": "SyntaxError",
     "evalue": "invalid syntax (<ipython-input-4-aa75eb9864de>, line 22)",
     "output_type": "error",
     "traceback": [
      "\u001b[1;36m  File \u001b[1;32m\"<ipython-input-4-aa75eb9864de>\"\u001b[1;36m, line \u001b[1;32m22\u001b[0m\n\u001b[1;33m    if len(nl)>0\u001b[0m\n\u001b[1;37m                ^\u001b[0m\n\u001b[1;31mSyntaxError\u001b[0m\u001b[1;31m:\u001b[0m invalid syntax\n"
     ]
    }
   ],
   "source": [
    "n=int(input())\n",
    "s=input()\n",
    "s=s.split()\n",
    "    # '1 2 3 4 5'\n",
    "li = []\n",
    "for i in s:\n",
    "    li.append(int(i))\n",
    "\n",
    " # -100 -40 -10 1 2 3 0\n",
    "def closestzero(li):\n",
    "    #seperate all numbers less than zero\n",
    "    #all numbers generate = zero, \n",
    "    \n",
    "    nl = []\n",
    "    for i in li:\n",
    "        if i <0:\n",
    "            n1.append(i)\n",
    "    pl = []\n",
    "    for i in li:\n",
    "        if i>=0:\n",
    "            p1.append(i)\n",
    "    if len(nl)>0\n",
    "    nc =max(n1)\n",
    "    pc =min(p1)\n",
    "    \n",
    "    if abd(nc) == pc:\n",
    "        return pc\n",
    "    elif abs(nc)<pc:\n",
    "        return abs(nc)\n",
    "    else:\n",
    "        return pc\n",
    "closestzero(li)"
   ]
  },
  {
   "cell_type": "code",
   "execution_count": 27,
   "metadata": {},
   "outputs": [
    {
     "name": "stdout",
     "output_type": "stream",
     "text": [
      "-100\n"
     ]
    }
   ],
   "source": [
    "## Farest from zero\n",
    "\n",
    "li =[-1, -2, 2, 3, 1, -100]\n",
    "li.sort()\n",
    "\n",
    "pl= []\n",
    "for i in li:\n",
    "    pl.append(abs(i))\n",
    "    \n",
    "    \n",
    "pl.sort()\n",
    "if pl[-1] in li:\n",
    "    print(pl[-1])\n",
    "else:\n",
    "    print(-pl[-1])\n",
    "    "
   ]
  },
  {
   "cell_type": "code",
   "execution_count": 28,
   "metadata": {},
   "outputs": [],
   "source": [
    "# If 3 numbers a,b,c\n",
    "# Write a program to find the largest number less than or equal to c\n",
    "# and leaves the remainder b when divisible by a"
   ]
  },
  {
   "cell_type": "code",
   "execution_count": 30,
   "metadata": {},
   "outputs": [
    {
     "name": "stdout",
     "output_type": "stream",
     "text": [
      "12\n",
      "3\n",
      "28\n",
      "38\n"
     ]
    },
    {
     "ename": "NameError",
     "evalue": "name 'remainder' is not defined",
     "output_type": "error",
     "traceback": [
      "\u001b[1;31m---------------------------------------------------------------------------\u001b[0m",
      "\u001b[1;31mNameError\u001b[0m                                 Traceback (most recent call last)",
      "\u001b[1;32m<ipython-input-30-d09ebadde0e4>\u001b[0m in \u001b[0;36m<module>\u001b[1;34m\u001b[0m\n\u001b[0;32m      3\u001b[0m \u001b[0mc\u001b[0m\u001b[1;33m=\u001b[0m\u001b[0mint\u001b[0m\u001b[1;33m(\u001b[0m\u001b[0minput\u001b[0m\u001b[1;33m(\u001b[0m\u001b[1;33m)\u001b[0m\u001b[1;33m)\u001b[0m\u001b[1;33m\u001b[0m\u001b[1;33m\u001b[0m\u001b[0m\n\u001b[0;32m      4\u001b[0m \u001b[0mremainer\u001b[0m\u001b[1;33m=\u001b[0m\u001b[0mint\u001b[0m\u001b[1;33m(\u001b[0m\u001b[0minput\u001b[0m\u001b[1;33m(\u001b[0m\u001b[1;33m)\u001b[0m\u001b[1;33m)\u001b[0m\u001b[1;33m\u001b[0m\u001b[1;33m\u001b[0m\u001b[0m\n\u001b[1;32m----> 5\u001b[1;33m \u001b[1;32mif\u001b[0m \u001b[0mremainder\u001b[0m\u001b[1;33m>=\u001b[0m\u001b[0mc\u001b[0m \u001b[1;32mor\u001b[0m \u001b[1;33m(\u001b[0m\u001b[0mremainder\u001b[0m\u001b[1;33m>\u001b[0m\u001b[0ma\u001b[0m \u001b[1;32mand\u001b[0m \u001b[0mremainder\u001b[0m\u001b[1;33m>\u001b[0m\u001b[0mb\u001b[0m\u001b[1;33m)\u001b[0m\u001b[1;33m:\u001b[0m\u001b[1;33m\u001b[0m\u001b[1;33m\u001b[0m\u001b[0m\n\u001b[0m\u001b[0;32m      6\u001b[0m     \u001b[0mremainder\u001b[0m\u001b[1;33m%\u001b[0m\u001b[0ma\u001b[0m\u001b[1;33m==\u001b[0m\u001b[0mb\u001b[0m\u001b[1;33m\u001b[0m\u001b[1;33m\u001b[0m\u001b[0m\n\u001b[0;32m      7\u001b[0m \u001b[1;32mreturn\u001b[0m \u001b[0mremainder\u001b[0m\u001b[1;33m\u001b[0m\u001b[1;33m\u001b[0m\u001b[0m\n",
      "\u001b[1;31mNameError\u001b[0m: name 'remainder' is not defined"
     ]
    }
   ],
   "source": [
    "a=int(input())\n",
    "b=int(input())\n",
    "c=int(input())\n",
    "remainer=int(input())\n",
    "if remainder>=c or (remainder>a and remainder>b):\n",
    "    remainder%a==b\n",
    "return remainder"
   ]
  },
  {
   "cell_type": "code",
   "execution_count": null,
   "metadata": {},
   "outputs": [],
   "source": []
  },
  {
   "cell_type": "code",
   "execution_count": null,
   "metadata": {},
   "outputs": [],
   "source": []
  }
 ],
 "metadata": {
  "kernelspec": {
   "display_name": "Python 3",
   "language": "python",
   "name": "python3"
  },
  "language_info": {
   "codemirror_mode": {
    "name": "ipython",
    "version": 3
   },
   "file_extension": ".py",
   "mimetype": "text/x-python",
   "name": "python",
   "nbconvert_exporter": "python",
   "pygments_lexer": "ipython3",
   "version": "3.7.3"
  }
 },
 "nbformat": 4,
 "nbformat_minor": 2
}
