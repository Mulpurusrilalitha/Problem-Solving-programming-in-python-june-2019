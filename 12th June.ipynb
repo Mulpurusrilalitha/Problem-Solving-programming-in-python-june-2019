{
 "cells": [
  {
   "cell_type": "markdown",
   "metadata": {},
   "source": [
    "## Problem Solving and Programming\n",
    "\n",
    "### Date: 12 June 2019\n",
    "\n",
    "#### Day Objectives\n",
    "\n",
    "\n",
    "* String slicing\n",
    "* Functions in Python\n",
    "* Basic Problems related to conditional statements using functions\n",
    "* Python Data Structure - Lists, Tuples and Dictionaries\n",
    "* Basic operations on data structures\n",
    "* Applying Data Structures to solve problems"
   ]
  },
  {
   "cell_type": "code",
   "execution_count": null,
   "metadata": {},
   "outputs": [],
   "source": []
  },
  {
   "cell_type": "markdown",
   "metadata": {},
   "source": [
    "### String Slicing"
   ]
  },
  {
   "cell_type": "code",
   "execution_count": 53,
   "metadata": {},
   "outputs": [
    {
     "data": {
      "text/plain": [
       "'Pto'"
      ]
     },
     "execution_count": 53,
     "metadata": {},
     "output_type": "execute_result"
    }
   ],
   "source": [
    "s1 = \"Python\"\n",
    "\n",
    "s1[len(s1)-1]\n",
    "\n",
    "s1[-2]\n",
    "\n",
    "s1[0]  # Accessing the first charecter in a string\n",
    "s1[1]  # Accessing the second charecter in a string\n",
    "\n",
    "# s1[len(s1)-1]/s1[-1]  # last charecter\n",
    "\n",
    "s1[0:2]   # here 0 is inclusive and display 'py'/ Acessing fist two charecters\n",
    "\n",
    "s1[-3:]\n",
    "s1[-2:]     # Work for any string -2 is exclusive and last charecter is inclusive\n",
    "#s1[4:] will not work for all strings... work for string with 6 charecters\n",
    "# Accessing otherthan 1st and last\n",
    "\n",
    "s1[1:-1]   # Accessing otherthan 1st and last\n",
    "\n",
    "s1[len(s1)//2]    # Acessing the middle charecter\n",
    "\n",
    "# Reverse of a string\n",
    "s1[-1::-1]\n",
    "# Accessing of last two charecters\n",
    "s1[-1:-3:-1]\n",
    "# reverse middle two charecters\n",
    "\n",
    "s1[len(s1)//2:len(s1)//2-3:-1]\n",
    "\n",
    "\n",
    "# Accessing alternate charecters\n",
    "s1[::2]\n",
    "\n",
    "s1[0:0+2:0+4]\n",
    "\n",
    " # Accessing alternate charecters in reverse order\n",
    "    \n"
   ]
  },
  {
   "cell_type": "code",
   "execution_count": 48,
   "metadata": {},
   "outputs": [
    {
     "data": {
      "text/plain": [
       "'rogrammin'"
      ]
     },
     "execution_count": 48,
     "metadata": {},
     "output_type": "execute_result"
    }
   ],
   "source": [
    "# Accessing otherthan 1st and last\n",
    "\n",
    "s1= 'programming'\n",
    "\n",
    "[len(s1)]\n",
    "s1[1:-1]\n"
   ]
  },
  {
   "cell_type": "code",
   "execution_count": 29,
   "metadata": {},
   "outputs": [
    {
     "data": {
      "text/plain": [
       "'i'"
      ]
     },
     "execution_count": 29,
     "metadata": {},
     "output_type": "execute_result"
    }
   ],
   "source": [
    "# Acessing the middle of odd charecter\n",
    "\n",
    "s1=\"lalitha\"\n",
    "s1[len(s1)//2]"
   ]
  },
  {
   "cell_type": "code",
   "execution_count": null,
   "metadata": {},
   "outputs": [],
   "source": []
  },
  {
   "cell_type": "markdown",
   "metadata": {},
   "source": [
    "## Functions"
   ]
  },
  {
   "cell_type": "code",
   "execution_count": 60,
   "metadata": {},
   "outputs": [
    {
     "data": {
      "text/plain": [
       "'nohtyP'"
      ]
     },
     "execution_count": 60,
     "metadata": {},
     "output_type": "execute_result"
    }
   ],
   "source": [
    "# Clear modular way to complete the task\n",
    "\n",
    "# Function to reverse a string\n",
    "\n",
    "def reversestring(s1):\n",
    "    return s1[::-1]\n",
    "\n",
    "reversestring(\"Python\")\n",
    "\n"
   ]
  },
  {
   "cell_type": "code",
   "execution_count": 71,
   "metadata": {},
   "outputs": [
    {
     "data": {
      "text/plain": [
       "False"
      ]
     },
     "execution_count": 71,
     "metadata": {},
     "output_type": "execute_result"
    }
   ],
   "source": [
    "# Function to check a palindrome\n",
    "\n",
    "def palindrome(s):\n",
    "    if s == s[::-1]:\n",
    "        return True\n",
    "    else:\n",
    "        return False\n",
    "\n",
    "palindrome(\"palindrome\")"
   ]
  },
  {
   "cell_type": "code",
   "execution_count": 78,
   "metadata": {},
   "outputs": [
    {
     "data": {
      "text/plain": [
       "True"
      ]
     },
     "execution_count": 78,
     "metadata": {},
     "output_type": "execute_result"
    }
   ],
   "source": [
    "# Leap year\n",
    "\n",
    "def year(y):\n",
    "    if y%400 == 0 or (y%100 != 0 and y%4 == 0):\n",
    "        return True\n",
    "    else:\n",
    "        return False\n",
    "year(2000)"
   ]
  },
  {
   "cell_type": "code",
   "execution_count": 90,
   "metadata": {},
   "outputs": [
    {
     "data": {
      "text/plain": [
       "5"
      ]
     },
     "execution_count": 90,
     "metadata": {},
     "output_type": "execute_result"
    }
   ],
   "source": [
    "# Function number of count digits\n",
    "\n",
    "def count(number):\n",
    "    return len(str(number))\n",
    "    \n",
    "count(12345)"
   ]
  },
  {
   "cell_type": "code",
   "execution_count": 92,
   "metadata": {},
   "outputs": [
    {
     "data": {
      "text/plain": [
       "51"
      ]
     },
     "execution_count": 92,
     "metadata": {},
     "output_type": "execute_result"
    }
   ],
   "source": [
    "# Identify the lengh of 4 numbers\n",
    "\n",
    "def greatest(n1,n2,n3,n4):\n",
    "    \n",
    "    if(n1>n2 and n1>n3 and n3>n4):\n",
    "        return n1\n",
    "    elif(n2>n1 and n2>n3 and n2>n4):\n",
    "        return n2\n",
    "    elif(n3>n1 and n3>n2 and n3>n4):\n",
    "        return n3\n",
    "    else:\n",
    "        return n4\n",
    "greatest(23,43,51,45)\n",
    "\n"
   ]
  },
  {
   "cell_type": "code",
   "execution_count": null,
   "metadata": {},
   "outputs": [],
   "source": []
  },
  {
   "cell_type": "markdown",
   "metadata": {},
   "source": [
    "# Iteration\n",
    "\n",
    "* for\n",
    "* while\n",
    "\n",
    "#### For loop in python\n",
    "\n",
    "[101,210]\n",
    "\n",
    "for i in range(101, 211]\n",
    "\n",
    "    print i\n",
    "    \n",
    "    \n",
    "O/P:-\n",
    "\n",
    "101\n",
    "-\n",
    "-\n",
    "-\n",
    "210    "
   ]
  },
  {
   "cell_type": "code",
   "execution_count": 1,
   "metadata": {},
   "outputs": [
    {
     "name": "stdout",
     "output_type": "stream",
     "text": [
      "1 2 3 4 5 6 7 8 9 10 11 12 13 14 15 16 17 18 19 20 "
     ]
    }
   ],
   "source": [
    "\n",
    "# Function to print natural numbers\n",
    "\n",
    "def printnaturalnumbers(n):\n",
    "    for counter in range(1,n+1):   # n is a key word\n",
    "        print(counter, end=\" \")\n",
    "    \n",
    "printnaturalnumbers(20)\n"
   ]
  },
  {
   "cell_type": "code",
   "execution_count": 8,
   "metadata": {},
   "outputs": [
    {
     "name": "stdout",
     "output_type": "stream",
     "text": [
      "500 502 504 506 508 510 512 514 516 518 520 522 524 "
     ]
    }
   ],
   "source": [
    "# Define a function to print the alternate values in a range\n",
    "# [500,550] # set is inclusive  ->500 502 504----550\n",
    "# (500,550) # Set is exclusive  ->501 503 505----549\n",
    "# range(500,550) ->500,501,----549\n",
    "# for all set based fi=uctions in python have start value inclusive and end value is exclusive\n",
    "\n",
    "def alternative(l,n):\n",
    "    for i in range(l,n+1,2):\n",
    "        print (i, end=\" \")\n",
    "    return\n",
    "alternative(500,525)\n",
    "\n",
    "        \n",
    "    \n"
   ]
  },
  {
   "cell_type": "code",
   "execution_count": null,
   "metadata": {},
   "outputs": [],
   "source": []
  },
  {
   "cell_type": "code",
   "execution_count": 17,
   "metadata": {},
   "outputs": [
    {
     "name": "stdout",
     "output_type": "stream",
     "text": [
      "10 9 8 7 6 5 4 3 2 1 "
     ]
    }
   ],
   "source": [
    "# Function to print reverse of given range in the same line\n",
    "\n",
    "def reverse(start,end):\n",
    "    for i in range(end,start-1,-1):\n",
    "        print(i,end=\" \")\n",
    "    return\n",
    "reverse(1,10)\n"
   ]
  },
  {
   "cell_type": "code",
   "execution_count": 29,
   "metadata": {},
   "outputs": [
    {
     "name": "stdout",
     "output_type": "stream",
     "text": [
      "129 127 125 123 "
     ]
    }
   ],
   "source": [
    "# Function to print the odd numbers in reverse order in a range\n",
    "\n",
    "def oddnumbers(start,end):\n",
    "    for i in range(end,start-1,-1):\n",
    "        if i%2!=0:\n",
    "            print(i,end=\" \")\n",
    "    return\n",
    "oddnumbers(123,130)"
   ]
  },
  {
   "cell_type": "code",
   "execution_count": 34,
   "metadata": {},
   "outputs": [
    {
     "data": {
      "text/plain": [
       "15150"
      ]
     },
     "execution_count": 34,
     "metadata": {},
     "output_type": "execute_result"
    }
   ],
   "source": [
    "# Function to calculate the sum of numbers in a range\n",
    "\n",
    "def sumnum(start,end):\n",
    "    sum = 0\n",
    "    for i in range(start,end+1):\n",
    "        sum = sum+i\n",
    "    return sum\n",
    "sumnum(100,200)"
   ]
  },
  {
   "cell_type": "code",
   "execution_count": 40,
   "metadata": {},
   "outputs": [
    {
     "data": {
      "text/plain": [
       "3000.0"
      ]
     },
     "execution_count": 40,
     "metadata": {},
     "output_type": "execute_result"
    }
   ],
   "source": [
    "# Function to  calculate the average of a given range\n",
    "\n",
    "def average(start,end):\n",
    "    sum = 0\n",
    "    count=0\n",
    "    for i in range(start,end+1):\n",
    "            sum =sum+i\n",
    "            count=count+1\n",
    "    return sum/count # 0r sum/(end-start+1)\n",
    "average(1000,5000)\n",
    "            "
   ]
  },
  {
   "cell_type": "code",
   "execution_count": 24,
   "metadata": {},
   "outputs": [
    {
     "name": "stdout",
     "output_type": "stream",
     "text": [
      "2000 2004 2008 2012 2016 2020 "
     ]
    }
   ],
   "source": [
    "# Function to generate the leap in a given range\n",
    "#2010-2020\n",
    "\n",
    "def leap(y): # to check the leap\n",
    "    if y%400==0 or(y%100!=0 and y%4==0):\n",
    "        return True\n",
    "    return False\n",
    "def genleap(start,end): # to print range\n",
    "    for y in range(start,end+1):\n",
    "        if leap(y):\n",
    "            print(y,end=\" \")\n",
    "genleap(2000,2020)            "
   ]
  },
  {
   "cell_type": "code",
   "execution_count": 4,
   "metadata": {},
   "outputs": [
    {
     "data": {
      "text/plain": [
       "7671"
      ]
     },
     "execution_count": 4,
     "metadata": {},
     "output_type": "execute_result"
    }
   ],
   "source": [
    "# Calculate the number of days in a given time period using leap year\n",
    "# for every year in the time if the year is not leap ->> add 365 to sum, add 366 to sum\n",
    "\n",
    "def days(start,end):\n",
    "    sum = 0\n",
    "    for y in range(start,end+1):\n",
    "        if leap(y):\n",
    "            sum =sum+366\n",
    "        else:\n",
    "            sum=sum+365\n",
    "    return sum\n",
    "\n",
    "days(2000,2020)"
   ]
  },
  {
   "cell_type": "code",
   "execution_count": 27,
   "metadata": {},
   "outputs": [
    {
     "ename": "NameError",
     "evalue": "name 'y' is not defined",
     "output_type": "error",
     "traceback": [
      "\u001b[1;31m---------------------------------------------------------------------------\u001b[0m",
      "\u001b[1;31mNameError\u001b[0m                                 Traceback (most recent call last)",
      "\u001b[1;32m<ipython-input-27-71005e797525>\u001b[0m in \u001b[0;36m<module>\u001b[1;34m\u001b[0m\n\u001b[0;32m     30\u001b[0m         \u001b[0mday\u001b[0m \u001b[1;33m+=\u001b[0m\u001b[0mnumberofdaysinmonth\u001b[0m\u001b[1;33m(\u001b[0m\u001b[0mmonth\u001b[0m\u001b[1;33m,\u001b[0m\u001b[0mstartyear\u001b[0m\u001b[1;33m)\u001b[0m\u001b[1;33m\u001b[0m\u001b[1;33m\u001b[0m\u001b[0m\n\u001b[0;32m     31\u001b[0m     \u001b[1;32mreturn\u001b[0m \u001b[0mday\u001b[0m\u001b[1;33m\u001b[0m\u001b[1;33m\u001b[0m\u001b[0m\n\u001b[1;32m---> 32\u001b[1;33m \u001b[0mdaysinstartyear\u001b[0m\u001b[1;33m(\u001b[0m\u001b[1;36m2\u001b[0m\u001b[1;33m,\u001b[0m\u001b[1;36m2019\u001b[0m\u001b[1;33m)\u001b[0m\u001b[1;33m\u001b[0m\u001b[1;33m\u001b[0m\u001b[0m\n\u001b[0m",
      "\u001b[1;32m<ipython-input-27-71005e797525>\u001b[0m in \u001b[0;36mdaysinstartyear\u001b[1;34m(startmonth, startyear)\u001b[0m\n\u001b[0;32m     28\u001b[0m     \u001b[0mday\u001b[0m \u001b[1;33m=\u001b[0m \u001b[1;36m0\u001b[0m\u001b[1;33m\u001b[0m\u001b[1;33m\u001b[0m\u001b[0m\n\u001b[0;32m     29\u001b[0m     \u001b[1;32mfor\u001b[0m \u001b[0mmonth\u001b[0m \u001b[1;32min\u001b[0m \u001b[0mrange\u001b[0m\u001b[1;33m(\u001b[0m\u001b[0mstartmonth\u001b[0m\u001b[1;33m,\u001b[0m\u001b[1;36m13\u001b[0m\u001b[1;33m)\u001b[0m\u001b[1;33m:\u001b[0m\u001b[1;33m\u001b[0m\u001b[1;33m\u001b[0m\u001b[0m\n\u001b[1;32m---> 30\u001b[1;33m         \u001b[0mday\u001b[0m \u001b[1;33m+=\u001b[0m\u001b[0mnumberofdaysinmonth\u001b[0m\u001b[1;33m(\u001b[0m\u001b[0mmonth\u001b[0m\u001b[1;33m,\u001b[0m\u001b[0mstartyear\u001b[0m\u001b[1;33m)\u001b[0m\u001b[1;33m\u001b[0m\u001b[1;33m\u001b[0m\u001b[0m\n\u001b[0m\u001b[0;32m     31\u001b[0m     \u001b[1;32mreturn\u001b[0m \u001b[0mday\u001b[0m\u001b[1;33m\u001b[0m\u001b[1;33m\u001b[0m\u001b[0m\n\u001b[0;32m     32\u001b[0m \u001b[0mdaysinstartyear\u001b[0m\u001b[1;33m(\u001b[0m\u001b[1;36m2\u001b[0m\u001b[1;33m,\u001b[0m\u001b[1;36m2019\u001b[0m\u001b[1;33m)\u001b[0m\u001b[1;33m\u001b[0m\u001b[1;33m\u001b[0m\u001b[0m\n",
      "\u001b[1;32m<ipython-input-27-71005e797525>\u001b[0m in \u001b[0;36mnumberofdaysinmonth\u001b[1;34m(month, year)\u001b[0m\n\u001b[0;32m     18\u001b[0m \u001b[1;32mdef\u001b[0m \u001b[0mnumberofdaysinmonth\u001b[0m\u001b[1;33m(\u001b[0m\u001b[0mmonth\u001b[0m\u001b[1;33m,\u001b[0m\u001b[0myear\u001b[0m\u001b[1;33m)\u001b[0m\u001b[1;33m:\u001b[0m\u001b[1;33m\u001b[0m\u001b[1;33m\u001b[0m\u001b[0m\n\u001b[0;32m     19\u001b[0m     \u001b[1;32mif\u001b[0m \u001b[0mmonth\u001b[0m \u001b[1;33m==\u001b[0m \u001b[1;36m2\u001b[0m\u001b[1;33m:\u001b[0m\u001b[1;33m\u001b[0m\u001b[1;33m\u001b[0m\u001b[0m\n\u001b[1;32m---> 20\u001b[1;33m         \u001b[1;32mif\u001b[0m \u001b[0mleap\u001b[0m\u001b[1;33m(\u001b[0m\u001b[0my\u001b[0m\u001b[1;33m)\u001b[0m\u001b[1;33m:\u001b[0m\u001b[1;33m\u001b[0m\u001b[1;33m\u001b[0m\u001b[0m\n\u001b[0m\u001b[0;32m     21\u001b[0m             \u001b[1;32mreturn\u001b[0m \u001b[1;36m29\u001b[0m\u001b[1;33m\u001b[0m\u001b[1;33m\u001b[0m\u001b[0m\n\u001b[0;32m     22\u001b[0m         \u001b[1;32mreturn\u001b[0m \u001b[1;36m28\u001b[0m\u001b[1;33m\u001b[0m\u001b[1;33m\u001b[0m\u001b[0m\n",
      "\u001b[1;31mNameError\u001b[0m: name 'y' is not defined"
     ]
    }
   ],
   "source": [
    "# Calculate number of hours in a given time period\n",
    "#(11,1995-12,2018)\n",
    "# 3 steps\n",
    "  # 1. start month year to end of the year\n",
    "  # 2. calculate days for all year between start year and end year\n",
    "        # 2018 -365*no of years\n",
    "  # 3. calculate days from jan to end month year\n",
    "\n",
    "# find the no. of days excluding feb\n",
    "#first 6 months -1,3,4,5,6,7\n",
    "                # all even months 30 days\n",
    "                # all odd months 31 days\n",
    "#last 5 months - 8,9,10,11,12\n",
    "                 # all even months 31days\n",
    "                # all odd months 30days\n",
    "#31 days -(month <=7 and month%2!=0) || (month>=8) and month 0   \n",
    "\n",
    "def numberofdaysinmonth(month,year):\n",
    "    if month == 2:\n",
    "        if leap(y):\n",
    "            return 29\n",
    "        return 28\n",
    "    elif (month<=7 and month%2!=0)or(month>=8 and month%2==0):\n",
    "        return 31\n",
    "    else:\n",
    "        return 30\n",
    "def daysinstartyear(startmonth,startyear):\n",
    "    day = 0\n",
    "    for month in range(startmonth,13):\n",
    "        day +=numberofdaysinmonth(month,startyear)\n",
    "    return day\n",
    "def daysinendyear(endmonth,endyear):\n",
    "    day = 0\n",
    "    for month in range(1,endmonth+1):\n",
    "        day +=numberofdaysinmonth(month,endyear)\n",
    "\n",
    "def noofhours(startmonth,startyear,endmonth,endyear):\n",
    "    day = 0\n",
    "    day += daysinstartyear(startmonth,startyear)\n",
    "    day += daysinendyear(endmonth,endyear)\n",
    "    if endyear-startyear == 2:  # 2019-2017\n",
    "        day += days(startyear+1,startyear+1)\n",
    "    elif endyear-startyear>2:\n",
    "        day+=days(startyear+1,endyear-1)\n",
    "    return 24*day\n",
    "\n",
    "noofhours(11,1975,3,1999)\n",
    "    \n",
    "\n",
    "daysinstartyear(2,2019)"
   ]
  },
  {
   "cell_type": "code",
   "execution_count": null,
   "metadata": {},
   "outputs": [],
   "source": []
  },
  {
   "cell_type": "code",
   "execution_count": null,
   "metadata": {},
   "outputs": [],
   "source": []
  },
  {
   "cell_type": "code",
   "execution_count": null,
   "metadata": {},
   "outputs": [],
   "source": [
    "\n",
    "   "
   ]
  },
  {
   "cell_type": "code",
   "execution_count": null,
   "metadata": {},
   "outputs": [],
   "source": []
  },
  {
   "cell_type": "code",
   "execution_count": 7,
   "metadata": {},
   "outputs": [
    {
     "name": "stdout",
     "output_type": "stream",
     "text": [
      "1 2 3 4 5 6 7 8 9 "
     ]
    }
   ],
   "source": [
    "# To print n natutal nubers using while loop\n",
    "\n",
    "\n",
    "def naturalnumbers(n):\n",
    "    counter = 1\n",
    "    while counter<= n:\n",
    "        print(counter, end =\" \")\n",
    "        counter = counter+1\n",
    "naturalnumbers(9)"
   ]
  },
  {
   "cell_type": "code",
   "execution_count": 9,
   "metadata": {},
   "outputs": [],
   "source": [
    "# Function to Print numbers between  divisible by 6 not a factor of 100 in a given range(lb, ub inclusive)\n",
    "\n",
    "\n",
    "\n",
    "def rangeofnubers(ln,un):\n",
    "\n",
    "    for i in range(ln>=un+1):\n",
    "    \n",
    "        if(i%6==0 and 100%i!= 0):\n",
    "            print(i)\n",
    "           \n",
    "             \n",
    "    rangeofnumbers(15,200)"
   ]
  },
  {
   "cell_type": "code",
   "execution_count": 27,
   "metadata": {},
   "outputs": [],
   "source": [
    "# Function to find the average of cubes of all even numbers in a single range(lb,ub)inclusive\n",
    "\n",
    "def avgevencubes(lb,ub):\n",
    "    sum =0\n",
    "    for i in range(lb,ub+1):\n",
    "        if i%2== 0:\n",
    "            sum += i**3\n",
    "    return sum/(ub-lb)\n",
    "\n",
    "    "
   ]
  },
  {
   "cell_type": "code",
   "execution_count": 23,
   "metadata": {},
   "outputs": [
    {
     "name": "stdout",
     "output_type": "stream",
     "text": [
      "Factors are\n",
      "1\n",
      "5\n",
      "7\n",
      "35\n"
     ]
    }
   ],
   "source": [
    "#  Function to generate list of factors\n",
    "def factor(n):\n",
    "    print(\"Factors are\")\n",
    "    for i in range(1,n+1):\n",
    "        if n%i== 0:\n",
    "            print(i)\n",
    "factor(35)"
   ]
  },
  {
   "cell_type": "code",
   "execution_count": 31,
   "metadata": {},
   "outputs": [
    {
     "name": "stdout",
     "output_type": "stream",
     "text": [
      "1   1 -- 0.5\n",
      "2   3 -- 1.5\n",
      "6   9 -- 4.5\n",
      "24   33 -- 16.5\n",
      "120   153 -- 76.5\n"
     ]
    }
   ],
   "source": [
    "# Function on calculating the factorial\n",
    "def factorial(n):\n",
    "    sum=0\n",
    "    fact=1\n",
    "    for i in range(1,n+1):\n",
    "        fact=fact*i\n",
    "        sum=sum+fact\n",
    "        average=sum/2\n",
    "        print(fact,\" \",sum,\"--\",average)\n",
    "factorial(5)\n",
    "        \n",
    "        "
   ]
  },
  {
   "cell_type": "code",
   "execution_count": 160,
   "metadata": {},
   "outputs": [
    {
     "data": {
      "text/plain": [
       "False"
      ]
     },
     "execution_count": 160,
     "metadata": {},
     "output_type": "execute_result"
    }
   ],
   "source": [
    "# Function for Prime\n",
    "\n",
    "def prime(n):\n",
    "    for i in range(2,n+1):\n",
    "        if n%i==0:\n",
    "            return False\n",
    "        else:\n",
    "            return True\n",
    "            \n",
    "prime(52)"
   ]
  },
  {
   "cell_type": "code",
   "execution_count": 163,
   "metadata": {},
   "outputs": [],
   "source": [
    "# Function to calculate average of n prime number\n",
    "def average(n,count):\n",
    "    for i in range(2,n+1):\n",
    "        if n%i==0:\n",
    "            print(0)\n",
    "        else:\n",
    "            print(n+0)\n",
    "average            "
   ]
  },
  {
   "cell_type": "code",
   "execution_count": 32,
   "metadata": {},
   "outputs": [],
   "source": [
    "# Function to generate all perfect numbers in a given range\n",
    "\n",
    "# sum of all factors =the number\n",
    "\n"
   ]
  },
  {
   "cell_type": "code",
   "execution_count": null,
   "metadata": {},
   "outputs": [],
   "source": [
    "# Function to generate N  odd amstrong number in a given range\n",
    "\n",
    "def amstrong(n):\n",
    "    for i in range(1,n+1):\n",
    "        reminder=n%10\n",
    "        reminder=reminder**3"
   ]
  }
 ],
 "metadata": {
  "kernelspec": {
   "display_name": "Python 3",
   "language": "python",
   "name": "python3"
  },
  "language_info": {
   "codemirror_mode": {
    "name": "ipython",
    "version": 3
   },
   "file_extension": ".py",
   "mimetype": "text/x-python",
   "name": "python",
   "nbconvert_exporter": "python",
   "pygments_lexer": "ipython3",
   "version": "3.7.3"
  }
 },
 "nbformat": 4,
 "nbformat_minor": 2
}
